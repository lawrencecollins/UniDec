{
 "cells": [
  {
   "cell_type": "code",
   "execution_count": 1,
   "metadata": {},
   "outputs": [],
   "source": [
    "from unidec_modules import mzmlparse_auto as automzml\n",
    "import unidec\n",
    "from unidec_modules import ChromEng as chrom\n",
    "from UniChrom2 import *\n",
    "from pathlib import Path\n",
    "import os\n",
    "import matplotlib.pyplot as plt"
   ]
  },
  {
   "cell_type": "code",
   "execution_count": 2,
   "metadata": {},
   "outputs": [],
   "source": [
    "mzml = \"mzML.mzML\"\n",
    "# folder_name = mzml[:-5] + \"_upload\"\n",
    "curr_dir =  os.getcwd()\n",
    "path = curr_dir + \"/\" + mzml[:-5] + \"/\" + mzml # (going to make a new folder containing data eventually)"
   ]
  },
  {
   "cell_type": "code",
   "execution_count": 5,
   "metadata": {},
   "outputs": [
    {
     "name": "stdout",
     "output_type": "stream",
     "text": [
      "\n",
      "UniDec Engine v.4.4.0\n",
      "\n",
      "UniDec Path: C:\\Users\\cm19ljc\\Documents\\GitHub\\MS-Analysis\\UniDec\\unidec_bin\\UniDec.exe\n",
      "\n",
      "UniDec Engine v.4.4.0\n",
      "\n",
      "UniDec Path: C:\\Users\\cm19ljc\\Documents\\GitHub\\MS-Analysis\\UniDec\\unidec_bin\\UniDec.exe\n",
      "C++ assertion \"\"IsOk()\"\" failed at ..\\..\\src\\common\\image.cpp(435) in wxImage::Scale(): invalid image\n"
     ]
    }
   ],
   "source": [
    "# initiate UniChrom\n",
    "app = ChromApp()"
   ]
  },
  {
   "cell_type": "code",
   "execution_count": 7,
   "metadata": {},
   "outputs": [
    {
     "name": "stdout",
     "output_type": "stream",
     "text": [
      "Opening:  mzML.mzML\n",
      "Opening HDF5 File: C:\\Users\\cm19ljc\\Documents\\GitHub\\MS-Analysis/mzML/mzML.hdf5\n",
      "Reading mzML: C:\\Users\\cm19ljc\\Documents\\GitHub\\MS-Analysis/mzML/mzML.mzML\n",
      "[Warning] Not index found and build_index_from_scratch is False\n",
      "Converted to gzip file to improve speed: C:\\Users\\cm19ljc\\Documents\\GitHub\\MS-Analysis/mzML/mzML.mzML.gz\n",
      "Error getting TIC in mzML; trying to make it...\n",
      "Imported Data. Constructing TIC\n",
      "Done\n"
     ]
    },
    {
     "name": "stderr",
     "output_type": "stream",
     "text": [
      "C:\\Users\\cm19ljc\\Documents\\GitHub\\MS-Analysis\\UniDec\\unidec_modules\\mzMLimporter.py:217: VisibleDeprecationWarning: Creating an ndarray from ragged nested sequences (which is a list-or-tuple of lists-or-tuples-or ndarrays with different lengths or shapes) is deprecated. If you meant to do this, you must specify 'dtype=object' when creating the ndarray\n",
      "  self.data = np.array(self.data)\n"
     ]
    },
    {
     "data": {
      "text/plain": [
       "True"
      ]
     },
     "execution_count": 7,
     "metadata": {},
     "output_type": "execute_result"
    }
   ],
   "source": [
    "eng = app.eng\n",
    "eng.open_chrom(path)"
   ]
  },
  {
   "cell_type": "code",
   "execution_count": 8,
   "metadata": {},
   "outputs": [],
   "source": [
    "# -- Data processing \n",
    "eng.config.subtype = 2 # background subtraction - subtract curved\n",
    "eng.config.subbuff = 100 # background subtraction amount(subtract curved) 0 = 0ff, 100 = good amount when on\n",
    "eng.config.datanorm = 0 # turn off data normalisation\n",
    "\n",
    "# -- Deconvolution\n",
    "eng.config.numit = 100 # number of iterations\n",
    "\n",
    "# mass range (default = 5000.0 to 500000.0 Da)\n",
    "eng.config.massub = 15000 # upper \n",
    "eng.config.masslb = 11000 # lower\n",
    "\n",
    "eng.config.massbins = 0.1 # sample mass every 0.1 Da\n",
    "\n",
    "# FWHM \n",
    "# eng.get_auto_peak_width()\n",
    "eng.config.mzsig = 0 \n",
    "\n",
    "# charge range\n",
    "eng.config.startz = 1\n",
    "eng.config.endz = 20\n",
    "\n",
    "# smoothing \n",
    "eng.config.zzsig = 1 # charge smooth width (smooth charge state distributions)\n",
    "eng.config.psig = 1 # smooth nearby points (point smooth width, some = 1)\n",
    "eng.config.beta = 0 # suppress artifacts (beta, some = 50)\n",
    "\n",
    "eng.config.psfun = 0 # Peak shape function (gaussian, lorentzian, split G/L)\n",
    "\n",
    "# Peak Selection and plotting\n",
    "eng.config.peaknorm = 0 # Normalise peaks (0 = off)\n",
    "eng.config.peakwindow = 100 # integration window / Da\n",
    "eng.config.nativeub = 10\n",
    "eng.config.nativelb = 10\n"
   ]
  },
  {
   "cell_type": "code",
   "execution_count": 9,
   "metadata": {},
   "outputs": [
    {
     "data": {
      "image/png": "[encoded data removed]",
      "text/plain": [
       "<Figure size 432x288 with 1 Axes>"
      ]
     },
     "metadata": {
      "needs_background": "light"
     },
     "output_type": "display_data"
    }
   ],
   "source": [
    "plt.plot(eng.tic[:, 0], eng.tic[:, 1])\n",
    "plt.show()"
   ]
  },
  {
   "cell_type": "code",
   "execution_count": 10,
   "metadata": {},
   "outputs": [],
   "source": [
    "# create new attributes defining location of peaks in the tic\n",
    "eng.firstpeak = 62\n",
    "eng.peakspacing = 56\n",
    "eng.totalpeaks = 3\n",
    "eng.peakwindowll = 5\n",
    "eng.peakwindowul = 5"
   ]
  },
  {
   "cell_type": "code",
   "execution_count": 11,
   "metadata": {},
   "outputs": [
    {
     "data": {
      "text/plain": [
       "[62, 118, 174]"
      ]
     },
     "execution_count": 11,
     "metadata": {},
     "output_type": "execute_result"
    }
   ],
   "source": [
    "eng.peaktimes = [eng.firstpeak + i*eng.peakspacing for i in range(eng.totalpeaks)]\n",
    "eng.peaktimes"
   ]
  },
  {
   "cell_type": "code",
   "execution_count": 12,
   "metadata": {},
   "outputs": [
    {
     "data": {
      "text/plain": [
       "[[0.95, 1.1166666666666667],\n",
       " [1.8833333333333333, 2.05],\n",
       " [2.816666666666667, 2.9833333333333334]]"
      ]
     },
     "execution_count": 12,
     "metadata": {},
     "output_type": "execute_result"
    }
   ],
   "source": [
    "# use this attribute to update peak windows\n",
    "eng.chrompeaks_tranges = [[(i-eng.peakwindowll)/60, (i+eng.peakwindowul)/60]for i in eng.peaktimes] # get peak windows\n",
    "eng.chrompeaks_tranges"
   ]
  },
  {
   "cell_type": "code",
   "execution_count": 13,
   "metadata": {},
   "outputs": [
    {
     "name": "stdout",
     "output_type": "stream",
     "text": [
      "Getting scans: [86, 125]\n",
      "Length merge axis: 28915\n",
      "Getting scans: [311, 350]\n",
      "Length merge axis: 30293\n",
      "Getting scans: [535, 574]\n",
      "Length merge axis: 31342\n"
     ]
    }
   ],
   "source": [
    "# add peak windows into unidec\n",
    "\n",
    "times = eng.chrompeaks_tranges\n",
    "\n",
    "for i, t in enumerate(times): # copied from add_chrom_peaks() in ChromEng.py\n",
    "    data = eng.get_data_from_times(t[0], t[1])\n",
    "    eng.data.add_data(data, name=str(t[0]), attrs=eng.attrs, export=False)"
   ]
  },
  {
   "cell_type": "code",
   "execution_count": 14,
   "metadata": {},
   "outputs": [
    {
     "data": {
      "image/png": "[encoded data removed]",
      "text/plain": [
       "<Figure size 432x288 with 1 Axes>"
      ]
     },
     "metadata": {
      "needs_background": "light"
     },
     "output_type": "display_data"
    }
   ],
   "source": [
    "plt.plot(eng.mzdata[:, 0], eng.mzdata[:, 1])\n",
    "plt.show()"
   ]
  }
 ],
 "metadata": {
  "kernelspec": {
   "display_name": "Python 3",
   "language": "python",
   "name": "python3"
  },
  "language_info": {
   "codemirror_mode": {
    "name": "ipython",
    "version": 3
   },
   "file_extension": ".py",
   "mimetype": "text/x-python",
   "name": "python",
   "nbconvert_exporter": "python",
   "pygments_lexer": "ipython3",
   "version": "3.8.5"
  }
 },
 "nbformat": 4,
 "nbformat_minor": 4
}
