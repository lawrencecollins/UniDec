{
 "cells": [
  {
   "cell_type": "code",
   "execution_count": 1,
   "metadata": {},
   "outputs": [],
   "source": [
    "from unidec_modules import mzmlparse_auto as automzml\n",
    "import unidec\n",
    "from unidec_modules import ChromEng as chrom\n",
    "from UniChrom2 import *\n",
    "from pathlib import Path\n",
    "import os\n",
    "import matplotlib.pyplot as plt"
   ]
  },
  {
   "cell_type": "code",
   "execution_count": 2,
   "metadata": {},
   "outputs": [],
   "source": [
    "mzml = \"mzML.mzML\"\n",
    "# folder_name = mzml[:-5] + \"_upload\"\n",
    "curr_dir =  os.getcwd()\n",
    "path = curr_dir + \"/\" + mzml[:-5] + \"/\" + mzml # (going to make a new folder containing the processed data eventually)"
   ]
  },
  {
   "cell_type": "code",
   "execution_count": 3,
   "metadata": {},
   "outputs": [
    {
     "name": "stdout",
     "output_type": "stream",
     "text": [
      "\n",
      "UniDec Engine v.4.4.0\n",
      "\n",
      "UniDec Path: C:\\Users\\cm19ljc\\Documents\\GitHub\\UniDec\\unidec_bin\\UniDec.exe\n",
      "\n",
      "UniDec Engine v.4.4.0\n",
      "\n",
      "UniDec Path: C:\\Users\\cm19ljc\\Documents\\GitHub\\UniDec\\unidec_bin\\UniDec.exe\n"
     ]
    }
   ],
   "source": [
    "# initiate UniChrom\n",
    "app = ChromApp()"
   ]
  },
  {
   "cell_type": "code",
   "execution_count": 4,
   "metadata": {},
   "outputs": [
    {
     "name": "stdout",
     "output_type": "stream",
     "text": [
      "Opening:  mzML.mzML\n",
      "Opening HDF5 File: C:\\Users\\cm19ljc\\Documents\\GitHub\\UniDec/mzML/mzML.hdf5\n",
      "Reading mzML: C:\\Users\\cm19ljc\\Documents\\GitHub\\UniDec/mzML/mzML.mzML\n",
      "[Warning] Not index found and build_index_from_scratch is False\n",
      "Converted to gzip file to improve speed: C:\\Users\\cm19ljc\\Documents\\GitHub\\UniDec/mzML/mzML.mzML.gz\n",
      "Error getting TIC in mzML; trying to make it...\n",
      "Imported Data. Constructing TIC\n",
      "Done\n"
     ]
    },
    {
     "name": "stderr",
     "output_type": "stream",
     "text": [
      "C:\\Users\\cm19ljc\\Documents\\GitHub\\UniDec\\unidec_modules\\mzMLimporter.py:217: VisibleDeprecationWarning: Creating an ndarray from ragged nested sequences (which is a list-or-tuple of lists-or-tuples-or ndarrays with different lengths or shapes) is deprecated. If you meant to do this, you must specify 'dtype=object' when creating the ndarray\n",
      "  self.data = np.array(self.data)\n"
     ]
    },
    {
     "data": {
      "text/plain": [
       "True"
      ]
     },
     "execution_count": 4,
     "metadata": {},
     "output_type": "execute_result"
    }
   ],
   "source": [
    "eng = app.eng\n",
    "eng.open_chrom(path)"
   ]
  },
  {
   "cell_type": "code",
   "execution_count": 5,
   "metadata": {},
   "outputs": [],
   "source": [
    "# -- Data processing \n",
    "eng.config.subtype = 2 # background subtraction - subtract curved\n",
    "eng.config.subbuff = 100 # background subtraction amount(subtract curved) 0 = 0ff, 100 = good amount when on\n",
    "eng.config.datanorm = 0 # turn off data normalisation\n",
    "\n",
    "# -- Deconvolution\n",
    "eng.config.numit = 100 # number of iterations\n",
    "\n",
    "# mass range (default = 5000.0 to 500000.0 Da)\n",
    "eng.config.massub = 15000 # upper \n",
    "eng.config.masslb = 11000 # lower\n",
    "\n",
    "eng.config.massbins = 0.1 # sample mass every 0.1 Da\n",
    "\n",
    "# FWHM \n",
    "# eng.get_auto_peak_width()\n",
    "eng.config.mzsig = 0 \n",
    "\n",
    "# charge range\n",
    "eng.config.startz = 1\n",
    "eng.config.endz = 20\n",
    "\n",
    "# smoothing \n",
    "eng.config.zzsig = 1 # charge smooth width (smooth charge state distributions)\n",
    "eng.config.psig = 1 # smooth nearby points (point smooth width, some = 1)\n",
    "eng.config.beta = 0 # suppress artifacts (beta, some = 50)\n",
    "\n",
    "eng.config.psfun = 0 # Peak shape function (gaussian, lorentzian, split G/L)\n",
    "\n",
    "# -- Peak Selection and plotting\n",
    "eng.config.peaknorm = 0 # Normalise peaks (0 = off)\n",
    "eng.config.peakwindow = 100 # integration window / Da\n",
    "eng.config.nativeub = 10\n",
    "eng.config.nativelb = -10\n"
   ]
  },
  {
   "cell_type": "code",
   "execution_count": 6,
   "metadata": {},
   "outputs": [
    {
     "data": {
      "image/png": "[encoded data removed]",
      "text/plain": [
       "<Figure size 432x288 with 1 Axes>"
      ]
     },
     "metadata": {
      "needs_background": "light"
     },
     "output_type": "display_data"
    }
   ],
   "source": [
    "plt.plot(eng.tic[:, 0], eng.tic[:, 1])\n",
    "plt.show()"
   ]
  },
  {
   "cell_type": "code",
   "execution_count": 7,
   "metadata": {},
   "outputs": [],
   "source": [
    "# create new attributes defining location of peaks in the tic - peak detection algorithm option? \n",
    "eng.firstpeak = 62\n",
    "eng.peakspacing = 56\n",
    "eng.totalpeaks = 3\n",
    "eng.peakwindowll = 5\n",
    "eng.peakwindowul = 5"
   ]
  },
  {
   "cell_type": "code",
   "execution_count": 8,
   "metadata": {},
   "outputs": [
    {
     "data": {
      "text/plain": [
       "[62, 118, 174]"
      ]
     },
     "execution_count": 8,
     "metadata": {},
     "output_type": "execute_result"
    }
   ],
   "source": [
    "eng.peaktimes = [eng.firstpeak + i*eng.peakspacing for i in range(eng.totalpeaks)]\n",
    "eng.peaktimes"
   ]
  },
  {
   "cell_type": "code",
   "execution_count": 9,
   "metadata": {},
   "outputs": [
    {
     "data": {
      "text/plain": [
       "[[0.95, 1.1166666666666667],\n",
       " [1.8833333333333333, 2.05],\n",
       " [2.816666666666667, 2.9833333333333334]]"
      ]
     },
     "execution_count": 9,
     "metadata": {},
     "output_type": "execute_result"
    }
   ],
   "source": [
    "# use this attribute to update peak windows\n",
    "eng.chrompeaks_tranges = [[(i-eng.peakwindowll)/60, (i+eng.peakwindowul)/60]for i in eng.peaktimes] # get peak windows\n",
    "eng.chrompeaks_tranges"
   ]
  },
  {
   "cell_type": "code",
   "execution_count": 30,
   "metadata": {},
   "outputs": [
    {
     "name": "stdout",
     "output_type": "stream",
     "text": [
      "Getting scans: [86, 125]\n",
      "Length merge axis: 28915\n",
      "0.95\n",
      "0.95\n"
     ]
    },
    {
     "data": {
      "image/png": "[encoded data removed]",
      "text/plain": [
       "<Figure size 432x288 with 2 Axes>"
      ]
     },
     "metadata": {
      "needs_background": "light"
     },
     "output_type": "display_data"
    },
    {
     "name": "stdout",
     "output_type": "stream",
     "text": [
      "~~~~~~~~~~~~~\n",
      "Getting scans: [311, 350]\n",
      "Length merge axis: 30293\n",
      "1.8833333333333333\n",
      "1.8833333333333333\n"
     ]
    },
    {
     "data": {
      "image/png": "[encoded data removed]",
      "text/plain": [
       "<Figure size 432x288 with 2 Axes>"
      ]
     },
     "metadata": {
      "needs_background": "light"
     },
     "output_type": "display_data"
    },
    {
     "name": "stdout",
     "output_type": "stream",
     "text": [
      "~~~~~~~~~~~~~\n",
      "Getting scans: [535, 574]\n",
      "Length merge axis: 31342\n",
      "2.816666666666667\n",
      "2.816666666666667\n"
     ]
    },
    {
     "data": {
      "image/png": "[encoded data removed]",
      "text/plain": [
       "<Figure size 432x288 with 2 Axes>"
      ]
     },
     "metadata": {
      "needs_background": "light"
     },
     "output_type": "display_data"
    },
    {
     "name": "stdout",
     "output_type": "stream",
     "text": [
      "~~~~~~~~~~~~~\n"
     ]
    }
   ],
   "source": [
    "# add spectra within peak windows into unidec\n",
    "\n",
    "times = eng.chrompeaks_tranges\n",
    "\n",
    "for i, t in enumerate(times): # copied from add_chrom_peaks() in ChromEng.py\n",
    "    data = eng.get_data_from_times(t[0], t[1])\n",
    "    \n",
    "    print(t[0])\n",
    "    print(eng.scans[2])\n",
    "    plt.figure()\n",
    "    plt.subplot(211)\n",
    "    plt.plot(data[:, 0], data[:, 1])\n",
    "    plt.subplot(212)\n",
    "    plt.plot(eng.mzdata[:, 0], eng.mzdata[:, 1])\n",
    "    plt.show()\n",
    "    print(\"~~~~~~~~~~~~~\")\n",
    "    "
   ]
  },
  {
   "cell_type": "code",
   "execution_count": 29,
   "metadata": {},
   "outputs": [
    {
     "name": "stdout",
     "output_type": "stream",
     "text": [
      "Getting scans: [86, 125]\n",
      "Length merge axis: 28915\n",
      "0.95\n",
      "Getting scans: [311, 350]\n",
      "Length merge axis: 30293\n",
      "1.8833333333333333\n",
      "Getting scans: [535, 574]\n",
      "Length merge axis: 31342\n",
      "2.816666666666667\n"
     ]
    }
   ],
   "source": [
    "# add spectra within peak windows into unidec\n",
    "\n",
    "times = eng.chrompeaks_tranges\n",
    "\n",
    "for i, t in enumerate(times): # copied from add_chrom_peaks() in ChromEng.py\n",
    "    data = eng.get_data_from_times(t[0], t[1])\n",
    "    eng.data.add_data(data = eng.mzdata, name=str(eng.scans[2]), attrs=eng.attrs, export=True)\n",
    "    eng.reset_vars(True)\n",
    "    print(eng.scans[2])"
   ]
  },
  {
   "cell_type": "code",
   "execution_count": 25,
   "metadata": {},
   "outputs": [
    {
     "data": {
      "text/plain": [
       "array([[ 244.74844798,  196.        ],\n",
       "       [ 244.76661065,  195.85581723],\n",
       "       [ 244.78477467,  195.71162377],\n",
       "       ...,\n",
       "       [2504.38137114, 1136.51774876],\n",
       "       [2504.5672201 ,  822.98228007],\n",
       "       [2504.75308285,  293.83499457]])"
      ]
     },
     "execution_count": 25,
     "metadata": {},
     "output_type": "execute_result"
    }
   ],
   "source": [
    "eng.mzdata"
   ]
  },
  {
   "cell_type": "code",
   "execution_count": 26,
   "metadata": {},
   "outputs": [
    {
     "name": "stdout",
     "output_type": "stream",
     "text": [
      "Creating file: C:\\Users\\cm19ljc\\Documents\\GitHub\\UniDec/mzML\\UniDec_Figures_and_Files\\mzML_selection.txt\n",
      "Opening File:  C:\\Users\\cm19ljc\\Documents\\GitHub\\UniDec/mzML\\UniDec_Figures_and_Files\\mzML_selection.txt\n",
      "Loading Time: 0.44s\n",
      "Linear False\n",
      "Data Prep Time: 0.077s\n",
      "UniDec run 1.1s\n",
      "File Name:  C:\\Users\\cm19ljc\\Documents\\GitHub\\UniDec/mzML\\UniDec_Figures_and_Files\\mzML_selection.txt R Squared:  0.8350942741647711\n",
      "Plot 4: 0.07s\n",
      "Plot 2: 0.059s\n"
     ]
    }
   ],
   "source": [
    "app.on_unidec_run()"
   ]
  }
 ],
 "metadata": {
  "kernelspec": {
   "display_name": "Python 3",
   "language": "python",
   "name": "python3"
  },
  "language_info": {
   "codemirror_mode": {
    "name": "ipython",
    "version": 3
   },
   "file_extension": ".py",
   "mimetype": "text/x-python",
   "name": "python",
   "nbconvert_exporter": "python",
   "pygments_lexer": "ipython3",
   "version": "3.8.5"
  }
 },
 "nbformat": 4,
 "nbformat_minor": 4
}
