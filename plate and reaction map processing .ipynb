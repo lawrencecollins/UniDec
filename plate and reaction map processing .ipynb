{
 "cells": [
  {
   "cell_type": "code",
   "execution_count": 1,
   "metadata": {},
   "outputs": [],
   "source": [
    "import matplotlib.pyplot as plt\n",
    "import pandas as pd\n",
    "import plate_map as pm\n",
    "import plate_map2 as pm2\n",
    "from unidec_modules.ChromEng2 import *\n",
    "from unidec_modules import unidectools as ud\n",
    "from DataStructure import *\n",
    "from dataclasses import dataclass\n"
   ]
  },
  {
   "cell_type": "code",
   "execution_count": 2,
   "metadata": {},
   "outputs": [],
   "source": [
    "map_path = \"unichrom plate map.xlsx\""
   ]
  },
  {
   "cell_type": "code",
   "execution_count": 3,
   "metadata": {},
   "outputs": [
    {
     "data": {
      "text/plain": [
       "{'17-05-21-CTB1': {'CTB': {'Reaction Name': '17-05-21-CTB1',\n",
       "   'Species': 'CTB',\n",
       "   'Concentration ': 10.0,\n",
       "   'Units': 'uM',\n",
       "   'Mass': 85710.0,\n",
       "   'Reagent Type': 'SM',\n",
       "   'Sequence': nan,\n",
       "   'Time': ['0', '30', '60']},\n",
       "  'CTB-GV': {'Reaction Name': '17-05-21-CTB1',\n",
       "   'Species': 'CTB-GV',\n",
       "   'Concentration ': nan,\n",
       "   'Units': 'uM',\n",
       "   'Mass': nan,\n",
       "   'Reagent Type': 'P',\n",
       "   'Sequence': nan,\n",
       "   'Time': ['0', '30', '60']},\n",
       "  'GVYQSRL': {'Reaction Name': '17-05-21-CTB1',\n",
       "   'Species': 'GVYQSRL',\n",
       "   'Concentration ': 10.0,\n",
       "   'Units': 'uM',\n",
       "   'Mass': 821.93,\n",
       "   'Reagent Type': 'SM',\n",
       "   'Sequence': 'GVYQSRL',\n",
       "   'Time': ['0', '30', '60']},\n",
       "  'HC7D': {'Reaction Name': '17-05-21-CTB1',\n",
       "   'Species': 'HC7D',\n",
       "   'Concentration ': 10.0,\n",
       "   'Units': 'uM',\n",
       "   'Mass': 49480.0,\n",
       "   'Reagent Type': 'C',\n",
       "   'Sequence': nan,\n",
       "   'Time': ['0', '30', '60']}},\n",
       " '17-05-21-CTB2': {'CTB': {'Reaction Name': '17-05-21-CTB2',\n",
       "   'Species': 'CTB',\n",
       "   'Concentration ': 20.0,\n",
       "   'Units': 'uM',\n",
       "   'Mass': nan,\n",
       "   'Reagent Type': 'SM',\n",
       "   'Sequence': nan,\n",
       "   'Time': ['0', '30', '60']},\n",
       "  'CTB-GV': {'Reaction Name': '17-05-21-CTB2',\n",
       "   'Species': 'CTB-GV',\n",
       "   'Concentration ': nan,\n",
       "   'Units': 'uM',\n",
       "   'Mass': nan,\n",
       "   'Reagent Type': 'P',\n",
       "   'Sequence': nan,\n",
       "   'Time': ['0', '30', '60']},\n",
       "  'GVYQSRL': {'Reaction Name': '17-05-21-CTB2',\n",
       "   'Species': 'GVYQSRL',\n",
       "   'Concentration ': 20.0,\n",
       "   'Units': 'uM',\n",
       "   'Mass': nan,\n",
       "   'Reagent Type': 'SM',\n",
       "   'Sequence': nan,\n",
       "   'Time': ['0', '30', '60']},\n",
       "  'HC7D': {'Reaction Name': '17-05-21-CTB2',\n",
       "   'Species': 'HC7D',\n",
       "   'Concentration ': 20.0,\n",
       "   'Units': 'uM',\n",
       "   'Mass': nan,\n",
       "   'Reagent Type': 'C',\n",
       "   'Sequence': nan,\n",
       "   'Time': ['0', '30', '60']}}}"
      ]
     },
     "execution_count": 3,
     "metadata": {},
     "output_type": "execute_result"
    }
   ],
   "source": [
    "rmap, pmap = pm2.read_in(map_path)\n",
    "reactions = pm2.process_data(rmap, pmap)\n",
    "reactions"
   ]
  },
  {
   "cell_type": "code",
   "execution_count": 4,
   "metadata": {},
   "outputs": [],
   "source": [
    "for key, val in reactions.items():\n",
    "    pass"
   ]
  },
  {
   "cell_type": "code",
   "execution_count": 39,
   "metadata": {},
   "outputs": [
    {
     "data": {
      "text/plain": [
       "{'CTB': {'Reaction Name': '17-05-21-CTB1',\n",
       "  'Species': 'CTB',\n",
       "  'Concentration ': 10.0,\n",
       "  'Units': 'uM',\n",
       "  'Mass': nan,\n",
       "  'Reagent Type': 'SM',\n",
       "  'Sequence': nan},\n",
       " 'CTB-GV': {'Reaction Name': '17-05-21-CTB1',\n",
       "  'Species': 'CTB-GV',\n",
       "  'Concentration ': nan,\n",
       "  'Units': 'uM',\n",
       "  'Mass': nan,\n",
       "  'Reagent Type': 'P',\n",
       "  'Sequence': nan},\n",
       " 'GVYQSRL': {'Reaction Name': '17-05-21-CTB1',\n",
       "  'Species': 'GVYQSRL',\n",
       "  'Concentration ': 10.0,\n",
       "  'Units': 'uM',\n",
       "  'Mass': nan,\n",
       "  'Reagent Type': 'SM',\n",
       "  'Sequence': nan},\n",
       " 'HC7D': {'Reaction Name': '17-05-21-CTB1',\n",
       "  'Species': 'HC7D',\n",
       "  'Concentration ': 10.0,\n",
       "  'Units': 'uM',\n",
       "  'Mass': nan,\n",
       "  'Reagent Type': 'C',\n",
       "  'Sequence': nan}}"
      ]
     },
     "execution_count": 39,
     "metadata": {},
     "output_type": "execute_result"
    }
   ],
   "source": [
    "reactions2 = {}\n",
    "for k, r in reactions.items(): # first iterate through reactions\n",
    "    # then each species\n",
    "    # convert each dataframe row (val) to dict\n",
    "    species = {key: val.to_dict('records')[0] for key, val in r.groupby('Species')} \n",
    "    reactions2[k] = species\n",
    "reactions2['17-05-21-CTB1']"
   ]
  },
  {
   "cell_type": "code",
   "execution_count": 46,
   "metadata": {},
   "outputs": [
    {
     "name": "stdout",
     "output_type": "stream",
     "text": [
      "{'CTB': {'Reaction Name': '17-05-21-CTB1', 'Species': 'CTB', 'Concentration ': 10.0, 'Units': 'uM', 'Mass': nan, 'Reagent Type': 'SM', 'Sequence': nan, 'Time': ['0', '30', '60']}, 'CTB-GV': {'Reaction Name': '17-05-21-CTB1', 'Species': 'CTB-GV', 'Concentration ': nan, 'Units': 'uM', 'Mass': nan, 'Reagent Type': 'P', 'Sequence': nan, 'Time': ['0', '30', '60']}, 'GVYQSRL': {'Reaction Name': '17-05-21-CTB1', 'Species': 'GVYQSRL', 'Concentration ': 10.0, 'Units': 'uM', 'Mass': nan, 'Reagent Type': 'SM', 'Sequence': nan, 'Time': ['0', '30', '60']}, 'HC7D': {'Reaction Name': '17-05-21-CTB1', 'Species': 'HC7D', 'Concentration ': 10.0, 'Units': 'uM', 'Mass': nan, 'Reagent Type': 'C', 'Sequence': nan, 'Time': ['0', '30', '60']}}\n",
      "{'CTB': {'Reaction Name': '17-05-21-CTB2', 'Species': 'CTB', 'Concentration ': 20.0, 'Units': 'uM', 'Mass': nan, 'Reagent Type': 'SM', 'Sequence': nan, 'Time': ['0', '30', '60']}, 'CTB-GV': {'Reaction Name': '17-05-21-CTB2', 'Species': 'CTB-GV', 'Concentration ': nan, 'Units': 'uM', 'Mass': nan, 'Reagent Type': 'P', 'Sequence': nan, 'Time': ['0', '30', '60']}, 'GVYQSRL': {'Reaction Name': '17-05-21-CTB2', 'Species': 'GVYQSRL', 'Concentration ': 20.0, 'Units': 'uM', 'Mass': nan, 'Reagent Type': 'SM', 'Sequence': nan, 'Time': ['0', '30', '60']}, 'HC7D': {'Reaction Name': '17-05-21-CTB2', 'Species': 'HC7D', 'Concentration ': 20.0, 'Units': 'uM', 'Mass': nan, 'Reagent Type': 'C', 'Sequence': nan, 'Time': ['0', '30', '60']}}\n"
     ]
    }
   ],
   "source": [
    "# next, update each time point with all the metadata for each species and vica versa? \n",
    "for rkey, rdict in reactions2.items():\n",
    "    for species, attrdict in rdict.items():\n",
    "        attrdict['Time'] = list(wells[rkey]['Time'])\n",
    "#         print(attrdict)\n",
    "    print(rdict)\n",
    "# for key, val in wells.items():\n",
    "#     print(key, val)"
   ]
  },
  {
   "cell_type": "code",
   "execution_count": 8,
   "metadata": {},
   "outputs": [
    {
     "data": {
      "text/plain": [
       "{'17-05-21-CTB1':     Type  Reaction Name Time  Valid\n",
       " A1  Test  17-05-21-CTB1    0   True\n",
       " A2  Test  17-05-21-CTB1   30   True\n",
       " A3  Test  17-05-21-CTB1   60   True,\n",
       " '17-05-21-CTB2':     Type  Reaction Name Time  Valid\n",
       " B1  Test  17-05-21-CTB2    0   True\n",
       " B2  Test  17-05-21-CTB2   30   True\n",
       " B3  Test  17-05-21-CTB2   60   True}"
      ]
     },
     "execution_count": 8,
     "metadata": {},
     "output_type": "execute_result"
    }
   ],
   "source": [
    "wells"
   ]
  },
  {
   "cell_type": "code",
   "execution_count": 6,
   "metadata": {},
   "outputs": [],
   "source": [
    "rheaders = {\"Reaction Name\":str, \"Species\":str, \"Concentration\":float,\n",
    "           \"Units\":str, \"Mass\":float, \"Reagent Type\":str, \"Sequence\":str}\n",
    "\n",
    "pheaders = {\"Well ID\":{'dtype':str, 'long':True, 'short_row': False, 'short_col':False}, \n",
    "            \"Type\":{'dtype':str, 'long':True, 'short_row': True, 'short_col':True}, \n",
    "            \"Reaction Name\":{'dtype':str, 'long':True, 'short_row': True, 'short_col':True}, \n",
    "            \"Time\":{'dtype':str, 'long':True, 'short_row': True, 'short_col':True}}\n",
    "\n",
    "map_name = \"plate map uni chrom update.xlsx\""
   ]
  },
  {
   "cell_type": "code",
   "execution_count": 7,
   "metadata": {},
   "outputs": [
    {
     "data": {
      "text/html": [
       "<div>\n",
       "<style scoped>\n",
       "    .dataframe tbody tr th:only-of-type {\n",
       "        vertical-align: middle;\n",
       "    }\n",
       "\n",
       "    .dataframe tbody tr th {\n",
       "        vertical-align: top;\n",
       "    }\n",
       "\n",
       "    .dataframe thead th {\n",
       "        text-align: right;\n",
       "    }\n",
       "</style>\n",
       "<table border=\"1\" class=\"dataframe\">\n",
       "  <thead>\n",
       "    <tr style=\"text-align: right;\">\n",
       "      <th></th>\n",
       "      <th>Reaction Name</th>\n",
       "      <th>Species</th>\n",
       "      <th>Concentration</th>\n",
       "      <th>Units</th>\n",
       "      <th>Mass</th>\n",
       "      <th>Reagent Type</th>\n",
       "      <th>Sequence</th>\n",
       "    </tr>\n",
       "  </thead>\n",
       "  <tbody>\n",
       "    <tr>\n",
       "      <th>0</th>\n",
       "      <td>17-05-21-CTB1</td>\n",
       "      <td>CTB</td>\n",
       "      <td>10.0</td>\n",
       "      <td>uM</td>\n",
       "      <td>NaN</td>\n",
       "      <td>SM</td>\n",
       "      <td>NaN</td>\n",
       "    </tr>\n",
       "    <tr>\n",
       "      <th>1</th>\n",
       "      <td>17-05-21-CTB1</td>\n",
       "      <td>GVYQSRL</td>\n",
       "      <td>10.0</td>\n",
       "      <td>uM</td>\n",
       "      <td>NaN</td>\n",
       "      <td>SM</td>\n",
       "      <td>NaN</td>\n",
       "    </tr>\n",
       "    <tr>\n",
       "      <th>2</th>\n",
       "      <td>17-05-21-CTB1</td>\n",
       "      <td>HC7D</td>\n",
       "      <td>10.0</td>\n",
       "      <td>uM</td>\n",
       "      <td>NaN</td>\n",
       "      <td>C</td>\n",
       "      <td>NaN</td>\n",
       "    </tr>\n",
       "    <tr>\n",
       "      <th>3</th>\n",
       "      <td>17-05-21-CTB1</td>\n",
       "      <td>CTB-GV</td>\n",
       "      <td>NaN</td>\n",
       "      <td>uM</td>\n",
       "      <td>NaN</td>\n",
       "      <td>P</td>\n",
       "      <td>NaN</td>\n",
       "    </tr>\n",
       "    <tr>\n",
       "      <th>4</th>\n",
       "      <td>17-05-21-CTB2</td>\n",
       "      <td>CTB</td>\n",
       "      <td>20.0</td>\n",
       "      <td>uM</td>\n",
       "      <td>NaN</td>\n",
       "      <td>SM</td>\n",
       "      <td>NaN</td>\n",
       "    </tr>\n",
       "    <tr>\n",
       "      <th>5</th>\n",
       "      <td>17-05-21-CTB2</td>\n",
       "      <td>GVYQSRL</td>\n",
       "      <td>20.0</td>\n",
       "      <td>uM</td>\n",
       "      <td>NaN</td>\n",
       "      <td>SM</td>\n",
       "      <td>NaN</td>\n",
       "    </tr>\n",
       "    <tr>\n",
       "      <th>6</th>\n",
       "      <td>17-05-21-CTB2</td>\n",
       "      <td>HC7D</td>\n",
       "      <td>20.0</td>\n",
       "      <td>uM</td>\n",
       "      <td>NaN</td>\n",
       "      <td>C</td>\n",
       "      <td>NaN</td>\n",
       "    </tr>\n",
       "    <tr>\n",
       "      <th>7</th>\n",
       "      <td>17-05-21-CTB2</td>\n",
       "      <td>CTB-GV</td>\n",
       "      <td>NaN</td>\n",
       "      <td>uM</td>\n",
       "      <td>NaN</td>\n",
       "      <td>P</td>\n",
       "      <td>NaN</td>\n",
       "    </tr>\n",
       "  </tbody>\n",
       "</table>\n",
       "</div>"
      ],
      "text/plain": [
       "   Reaction Name  Species  Concentration  Units  Mass Reagent Type Sequence\n",
       "0  17-05-21-CTB1      CTB            10.0    uM   NaN           SM      NaN\n",
       "1  17-05-21-CTB1  GVYQSRL            10.0    uM   NaN           SM      NaN\n",
       "2  17-05-21-CTB1     HC7D            10.0    uM   NaN            C      NaN\n",
       "3  17-05-21-CTB1   CTB-GV             NaN    uM   NaN            P      NaN\n",
       "4  17-05-21-CTB2      CTB            20.0    uM   NaN           SM      NaN\n",
       "5  17-05-21-CTB2  GVYQSRL            20.0    uM   NaN           SM      NaN\n",
       "6  17-05-21-CTB2     HC7D            20.0    uM   NaN            C      NaN\n",
       "7  17-05-21-CTB2   CTB-GV             NaN    uM   NaN            P      NaN"
      ]
     },
     "execution_count": 7,
     "metadata": {},
     "output_type": "execute_result"
    }
   ],
   "source": [
    "rmap = pd.read_excel(map_name, \n",
    "                     dtype = rheaders, \n",
    "                     sheet_name = \"reaction map\")\n",
    "rmap"
   ]
  },
  {
   "cell_type": "code",
   "execution_count": 8,
   "metadata": {},
   "outputs": [],
   "source": [
    "pdata_types = {i[0]: i[1]['dtype'] for i in pheaders.items()} \n",
    "pmap = pd.read_excel(map_name, dtype = pdata_types, index_col = \"Well ID\", skiprows = 1)"
   ]
  },
  {
   "cell_type": "code",
   "execution_count": 9,
   "metadata": {},
   "outputs": [
    {
     "data": {
      "text/html": [
       "<div>\n",
       "<style scoped>\n",
       "    .dataframe tbody tr th:only-of-type {\n",
       "        vertical-align: middle;\n",
       "    }\n",
       "\n",
       "    .dataframe tbody tr th {\n",
       "        vertical-align: top;\n",
       "    }\n",
       "\n",
       "    .dataframe thead th {\n",
       "        text-align: right;\n",
       "    }\n",
       "</style>\n",
       "<table border=\"1\" class=\"dataframe\">\n",
       "  <thead>\n",
       "    <tr style=\"text-align: right;\">\n",
       "      <th></th>\n",
       "      <th>Type</th>\n",
       "      <th>Reaction Name</th>\n",
       "      <th>Time</th>\n",
       "      <th>Valid</th>\n",
       "    </tr>\n",
       "  </thead>\n",
       "  <tbody>\n",
       "    <tr>\n",
       "      <th>A1</th>\n",
       "      <td>Test</td>\n",
       "      <td>17-05-21-CTB1</td>\n",
       "      <td>0</td>\n",
       "      <td>True</td>\n",
       "    </tr>\n",
       "    <tr>\n",
       "      <th>A2</th>\n",
       "      <td>Test</td>\n",
       "      <td>17-05-21-CTB1</td>\n",
       "      <td>30</td>\n",
       "      <td>True</td>\n",
       "    </tr>\n",
       "    <tr>\n",
       "      <th>A3</th>\n",
       "      <td>Test</td>\n",
       "      <td>17-05-21-CTB1</td>\n",
       "      <td>60</td>\n",
       "      <td>True</td>\n",
       "    </tr>\n",
       "    <tr>\n",
       "      <th>B1</th>\n",
       "      <td>Test</td>\n",
       "      <td>17-05-21-CTB2</td>\n",
       "      <td>0</td>\n",
       "      <td>True</td>\n",
       "    </tr>\n",
       "    <tr>\n",
       "      <th>B2</th>\n",
       "      <td>Test</td>\n",
       "      <td>17-05-21-CTB2</td>\n",
       "      <td>30</td>\n",
       "      <td>True</td>\n",
       "    </tr>\n",
       "    <tr>\n",
       "      <th>B3</th>\n",
       "      <td>Test</td>\n",
       "      <td>17-05-21-CTB2</td>\n",
       "      <td>60</td>\n",
       "      <td>True</td>\n",
       "    </tr>\n",
       "  </tbody>\n",
       "</table>\n",
       "</div>"
      ],
      "text/plain": [
       "    Type  Reaction Name Time  Valid\n",
       "A1  Test  17-05-21-CTB1    0   True\n",
       "A2  Test  17-05-21-CTB1   30   True\n",
       "A3  Test  17-05-21-CTB1   60   True\n",
       "B1  Test  17-05-21-CTB2    0   True\n",
       "B2  Test  17-05-21-CTB2   30   True\n",
       "B3  Test  17-05-21-CTB2   60   True"
      ]
     },
     "execution_count": 9,
     "metadata": {},
     "output_type": "execute_result"
    }
   ],
   "source": [
    "# add Valid column to plate map\n",
    "pheaders2 = [x for x in pheaders.keys() if pheaders[x]['long']]\n",
    "pmapdf = pm.empty_map(size = 6, header_names = pheaders)\n",
    "pmapdf.update(pmap)\n",
    "pmapdf"
   ]
  },
  {
   "cell_type": "code",
   "execution_count": 10,
   "metadata": {},
   "outputs": [
    {
     "data": {
      "text/plain": [
       "{'17-05-21-CTB1': [   Reaction Name  Species  Concentration  Units  Mass Reagent Type Sequence\n",
       "  0  17-05-21-CTB1      CTB            10.0    uM   NaN           SM      NaN\n",
       "  1  17-05-21-CTB1  GVYQSRL            10.0    uM   NaN           SM      NaN\n",
       "  2  17-05-21-CTB1     HC7D            10.0    uM   NaN            C      NaN\n",
       "  3  17-05-21-CTB1   CTB-GV             NaN    uM   NaN            P      NaN],\n",
       " '17-05-21-CTB2': [   Reaction Name  Species  Concentration  Units  Mass Reagent Type Sequence\n",
       "  4  17-05-21-CTB2      CTB            20.0    uM   NaN           SM      NaN\n",
       "  5  17-05-21-CTB2  GVYQSRL            20.0    uM   NaN           SM      NaN\n",
       "  6  17-05-21-CTB2     HC7D            20.0    uM   NaN            C      NaN\n",
       "  7  17-05-21-CTB2   CTB-GV             NaN    uM   NaN            P      NaN]}"
      ]
     },
     "execution_count": 10,
     "metadata": {},
     "output_type": "execute_result"
    }
   ],
   "source": [
    "# filter by reactions \n",
    "reactions = {key:[val] for key, val in rmap.groupby('Reaction Name')}\n",
    "wellsflt = {key: val for key, val in pmapdf.groupby('Reaction Name')} \n",
    "# for k, v in wellsflt.items():\n",
    "#     reactions[k].append(v)\n",
    "reactions"
   ]
  },
  {
   "cell_type": "code",
   "execution_count": 11,
   "metadata": {
    "scrolled": false
   },
   "outputs": [
    {
     "name": "stdout",
     "output_type": "stream",
     "text": [
      "   Reaction Name  Species  Concentration  Units  Mass Reagent Type Sequence\n",
      "0  17-05-21-CTB1      CTB            10.0    uM   NaN           SM      NaN\n",
      "1  17-05-21-CTB1  GVYQSRL            10.0    uM   NaN           SM      NaN\n",
      "2  17-05-21-CTB1     HC7D            10.0    uM   NaN            C      NaN\n",
      "3  17-05-21-CTB1   CTB-GV             NaN    uM   NaN            P      NaN\n",
      "~~~~\n"
     ]
    },
    {
     "ename": "IndexError",
     "evalue": "list index out of range",
     "output_type": "error",
     "traceback": [
      "\u001b[1;31m---------------------------------------------------------------------------\u001b[0m",
      "\u001b[1;31mIndexError\u001b[0m                                Traceback (most recent call last)",
      "\u001b[1;32m<ipython-input-11-85fa5cc376e0>\u001b[0m in \u001b[0;36m<module>\u001b[1;34m\u001b[0m\n\u001b[0;32m      1\u001b[0m \u001b[0mprint\u001b[0m\u001b[1;33m(\u001b[0m\u001b[0mreactions\u001b[0m\u001b[1;33m[\u001b[0m\u001b[1;34m'17-05-21-CTB1'\u001b[0m\u001b[1;33m]\u001b[0m\u001b[1;33m[\u001b[0m\u001b[1;36m0\u001b[0m\u001b[1;33m]\u001b[0m\u001b[1;33m)\u001b[0m \u001b[1;31m# reaction metadata\u001b[0m\u001b[1;33m\u001b[0m\u001b[1;33m\u001b[0m\u001b[0m\n\u001b[0;32m      2\u001b[0m \u001b[0mprint\u001b[0m\u001b[1;33m(\u001b[0m\u001b[1;34m\"~~~~\"\u001b[0m\u001b[1;33m)\u001b[0m\u001b[1;33m\u001b[0m\u001b[1;33m\u001b[0m\u001b[0m\n\u001b[1;32m----> 3\u001b[1;33m \u001b[0mprint\u001b[0m\u001b[1;33m(\u001b[0m\u001b[0mreactions\u001b[0m\u001b[1;33m[\u001b[0m\u001b[1;34m'17-05-21-CTB1'\u001b[0m\u001b[1;33m]\u001b[0m\u001b[1;33m[\u001b[0m\u001b[1;36m1\u001b[0m\u001b[1;33m]\u001b[0m\u001b[1;33m)\u001b[0m\u001b[1;33m\u001b[0m\u001b[1;33m\u001b[0m\u001b[0m\n\u001b[0m",
      "\u001b[1;31mIndexError\u001b[0m: list index out of range"
     ]
    }
   ],
   "source": [
    "print(reactions['17-05-21-CTB1'][0]) # reaction metadata \n",
    "print(\"~~~~\")\n",
    "print(reactions['17-05-21-CTB1'][1])"
   ]
  },
  {
   "cell_type": "code",
   "execution_count": null,
   "metadata": {},
   "outputs": [],
   "source": [
    "# filter each reaction into separate time points, each containing all the metadata\n",
    "wellsflt"
   ]
  },
  {
   "cell_type": "code",
   "execution_count": null,
   "metadata": {},
   "outputs": [],
   "source": [
    "@dataclass\n",
    "class Timepoint:\n",
    "    time:float\n",
    "    species:list = None\n",
    "    spectra:list = None\n",
    "    "
   ]
  },
  {
   "cell_type": "code",
   "execution_count": null,
   "metadata": {},
   "outputs": [],
   "source": [
    "times = {}\n",
    "for k, v in reactions.items():\n",
    "    valid_filter = v[1]['Valid'] == True\n",
    "    timesgroup = v[1][valid_filter].groupby('Time')\n",
    "    times[k] = {float(key):[val, v[0]] for key, val in timesgroup}\n",
    "    \n",
    "    print({key: val for key, val in timesgroup})"
   ]
  },
  {
   "cell_type": "code",
   "execution_count": null,
   "metadata": {},
   "outputs": [],
   "source": [
    "times = {}\n",
    "for k, v in reactions.items():\n",
    "    valid_filter = v[1]['Valid'] == True\n",
    "    timesgroup = v[1][valid_filter].groupby('Time')\n",
    "    \n",
    "    \n",
    "    \n",
    "    times[k] = {float(key):[val, v[0]] for key, val in timesgroup}\n",
    "    \n",
    "    print({key: val for key, val in timesgroup})"
   ]
  },
  {
   "cell_type": "code",
   "execution_count": null,
   "metadata": {},
   "outputs": [],
   "source": [
    "fff = (times['17-05-21-CTB1'][30][0])\n",
    "fff.iloc[0]['Time']"
   ]
  },
  {
   "cell_type": "code",
   "execution_count": null,
   "metadata": {},
   "outputs": [],
   "source": [
    "pheaders"
   ]
  }
 ],
 "metadata": {
  "kernelspec": {
   "display_name": "Python 3",
   "language": "python",
   "name": "python3"
  },
  "language_info": {
   "codemirror_mode": {
    "name": "ipython",
    "version": 3
   },
   "file_extension": ".py",
   "mimetype": "text/x-python",
   "name": "python",
   "nbconvert_exporter": "python",
   "pygments_lexer": "ipython3",
   "version": "3.8.5"
  }
 },
 "nbformat": 4,
 "nbformat_minor": 4
}
