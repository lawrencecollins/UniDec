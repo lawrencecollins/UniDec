{
 "cells": [
  {
   "cell_type": "code",
   "execution_count": null,
   "metadata": {},
   "outputs": [],
   "source": [
    "from dataclasses import dataclass"
   ]
  },
  {
   "cell_type": "code",
   "execution_count": 19,
   "metadata": {},
   "outputs": [],
   "source": [
    "@dataclass\n",
    "class Species(): \n",
    "    mass:float = None\n",
    "    name:str = None\n",
    "    area:float = None\n",
    "    intensity:float = None\n",
    "        \n",
    "class TimePoint():\n",
    "    def __init__(self):\n",
    "        self.species = {}\n",
    "\n",
    "class Reaction():\n",
    "    def __init__(self, ID):\n",
    "        self.ID = ID\n",
    "        self.time_series = {}\n",
    "        self.metadata = []\n",
    "        \n",
    "# class MetaData():\n",
    "#     def __init__(self):\n",
    "#         pass\n",
    "    \n"
   ]
  },
  {
   "cell_type": "code",
   "execution_count": 18,
   "metadata": {},
   "outputs": [
    {
     "name": "stdout",
     "output_type": "stream",
     "text": [
      "None\n"
     ]
    }
   ],
   "source": []
  }
 ],
 "metadata": {
  "kernelspec": {
   "display_name": "Python 3",
   "language": "python",
   "name": "python3"
  },
  "language_info": {
   "codemirror_mode": {
    "name": "ipython",
    "version": 3
   },
   "file_extension": ".py",
   "mimetype": "text/x-python",
   "name": "python",
   "nbconvert_exporter": "python",
   "pygments_lexer": "ipython3",
   "version": "3.8.5"
  }
 },
 "nbformat": 4,
 "nbformat_minor": 4
}
