{
 "cells": [
  {
   "cell_type": "code",
   "execution_count": 1,
   "metadata": {},
   "outputs": [],
   "source": [
    "from unidec_modules.ChromEng2 import *\n",
    "import plate_map2 as pm2\n",
    "from dataclasses import dataclass\n",
    "import pandas as pd\n",
    "import UniChromExtra as uc\n",
    "import matplotlib.pyplot as plt"
   ]
  },
  {
   "cell_type": "code",
   "execution_count": 2,
   "metadata": {},
   "outputs": [],
   "source": [
    "spectra_path = \"C:\\\\Users\\\\cm19ljc\\\\Documents\\\\GitHub\\\\UniDec\\\\mzML\\\\mzML.mzML\"\n",
    "map_path = \"unichrom plate map example.xlsx\""
   ]
  },
  {
   "cell_type": "code",
   "execution_count": 3,
   "metadata": {},
   "outputs": [
    {
     "name": "stdout",
     "output_type": "stream",
     "text": [
      "\n",
      "UniDec Engine v.4.4.0\n",
      "\n",
      "UniDec Path: C:\\Users\\cm19ljc\\Documents\\GitHub\\UniDec\\unidec_bin\\UniDec.exe\n",
      "\n",
      "UniDec Engine v.4.4.0\n",
      "\n",
      "UniDec Path: C:\\Users\\cm19ljc\\Documents\\GitHub\\UniDec\\unidec_bin\\UniDec.exe\n",
      "Opening HDF5 File: C:\\Users\\cm19ljc\\Documents\\GitHub\\UniDec\\mzML\\mzML.hdf5\n",
      "Reading mzML: C:\\Users\\cm19ljc\\Documents\\GitHub\\UniDec\\mzML\\mzML.mzML\n",
      "[Warning] Not index found and build_index_from_scratch is False\n",
      "Converted to gzip file to improve speed: C:\\Users\\cm19ljc\\Documents\\GitHub\\UniDec\\mzML\\mzML.mzML.gz\n",
      "Error getting TIC in mzML; trying to make it...\n",
      "Imported Data. Constructing TIC\n",
      "Done\n",
      "1070 2\n",
      "Noise Level: 0.03357343719702872 Window: 0.05\n",
      "Bad Peak [0.419567   0.30422294] 0.23768299999999998 [0.419567, 0.65725]\n",
      "Bad Peak [0.602767   0.24142904] 0.24183299999999996 [0.419567, 0.6614]\n",
      "0.702967 0.14128400000000008\n",
      "0.790233 0.16205000000000003\n",
      "1.0312 0.13711000000000007\n",
      "1.95747 0.1411800000000003\n",
      "2.88835 0.13712999999999997\n",
      "Bad Peak [3.76958    0.03455761] 0.8769500000000003 [3.7197, 4.59665]\n",
      "Bad Peak [4.23498    0.03712807] 0.6733000000000002 [3.91918, 4.59248]\n",
      "Bad Peak [5.02062    0.03889817] 0.26602000000000015 [4.77123, 5.03725]\n"
     ]
    },
    {
     "data": {
      "text/plain": [
       "([array([0.702967  , 0.13838679]),\n",
       "  array([0.790233  , 0.09750636]),\n",
       "  array([1.0312    , 0.74873995]),\n",
       "  array([1.95747   , 0.88543616]),\n",
       "  array([2.88835, 1.     ])],\n",
       " array([[0.686333, 0.827617],\n",
       "        [0.682183, 0.844233],\n",
       "        [1.00212 , 1.13923 ],\n",
       "        [1.9284  , 2.06958 ],\n",
       "        [2.85927 , 2.9964  ]]))"
      ]
     },
     "execution_count": 3,
     "metadata": {},
     "output_type": "execute_result"
    }
   ],
   "source": [
    "eng = ChromEngine()\n",
    "eng.load_mzml(spectra_path)\n",
    "eng.config.chrom_peak_width = 0.05\n",
    "eng.get_chrom_peaks(min = 1) # INSERT PLOT HERE"
   ]
  },
  {
   "cell_type": "code",
   "execution_count": 4,
   "metadata": {},
   "outputs": [
    {
     "name": "stdout",
     "output_type": "stream",
     "text": [
      "Getting scans: [98, 131]\n",
      "Length merge axis: 28915\n",
      "Getting scans: [321, 355]\n",
      "Length merge axis: 30293\n",
      "Getting scans: [545, 578]\n",
      "Length merge axis: 31336\n"
     ]
    },
    {
     "data": {
      "image/png": "[encoded data removed]",
      "text/plain": [
       "<Figure size 432x288 with 1 Axes>"
      ]
     },
     "metadata": {
      "needs_background": "light"
     },
     "output_type": "display_data"
    }
   ],
   "source": [
    "# eng.config.sw_scan_offset = 0 # ??? defaults to 10\n",
    "\n",
    "eng.add_chrom_peaks2() # stores data from selected peaks ready for metaunidec processing\n",
    "uc.plot_tic(eng, peak_windows = True)"
   ]
  },
  {
   "cell_type": "code",
   "execution_count": 5,
   "metadata": {},
   "outputs": [],
   "source": [
    "eng.config.subtype = 2 # background subtraction - subtract curved\n",
    "eng.config.subbuff = 100 # background subtraction amount(subtract curved) 0 = 0ff, 100 = good amount when on\n",
    "eng.config.datanorm = 0 # turn off data normalisation\n",
    "\n",
    "# -- Deconvolution\n",
    "eng.config.numit = 100 # number of iterations\n",
    "\n",
    "# mass range (default = 5000.0 to 500000.0 Da)\n",
    "eng.config.massub = 15000 # upper \n",
    "eng.config.masslb = 11000 # lower\n",
    "\n",
    "eng.config.massbins = 0.1 # sample mass every 0.1 Da\n",
    "\n",
    "# FWHM \n",
    "# eng.get_auto_peak_width()\n",
    "eng.config.mzsig = 0 \n",
    "\n",
    "# charge range\n",
    "eng.config.startz = 1\n",
    "eng.config.endz = 30\n",
    "\n",
    "# smoothing \n",
    "eng.config.zzsig = 1 # charge smooth width (smooth charge state distributions)\n",
    "eng.config.psig = 1 # smooth nearby points (point smooth width, some = 1)\n",
    "eng.config.beta = 0 # suppress artifacts (beta, some = 50)\n",
    "\n",
    "eng.config.psfun = 0 # Peak shape function (gaussian, lorentzian, split G/L)\n",
    "\n",
    "# -- Peak Selection and plotting\n",
    "eng.config.peaknorm = 0 # Normalise peaks (0 = off)\n",
    "eng.config.datanorm = 0\n",
    "eng.config.peakwindow = 10 # peak window / Da\n",
    "eng.config.exnorm = 0 # extract normalisation\n",
    "eng.config.peakthresh = 0.05\n",
    "# eng.config.nativeub = 10\n",
    "# eng.config.nativelb = -10\n",
    "eng.data.export_hdf5()"
   ]
  },
  {
   "cell_type": "code",
   "execution_count": 6,
   "metadata": {},
   "outputs": [
    {
     "name": "stdout",
     "output_type": "stream",
     "text": [
      "Execution Time: 0.13910670000000103\n",
      "Execution Time: 3.0877316000000015\n",
      "Execution Time: 0.17912240000000068\n",
      "Peak info saved to: C:\\Users\\cm19ljc\\Documents\\GitHub\\UniDec\\mzML\\UniDec_Figures_and_Files\\mzML_extracts.txt\n"
     ]
    }
   ],
   "source": [
    "eng.process_data()\n",
    "eng.run_unidec()\n",
    "eng.pick_peaks() \n",
    "eng = uc.integrate_all(eng)"
   ]
  },
  {
   "cell_type": "code",
   "execution_count": 7,
   "metadata": {
    "scrolled": true
   },
   "outputs": [
    {
     "name": "stdout",
     "output_type": "stream",
     "text": [
      "        Reaction  Species  Concentration Units     Mass Reagent_Type Sequence\n",
      "0  17-05-21-CTB1      CTB           10.0    uM  13321.0           SM      NaN\n",
      "1  17-05-21-CTB1  GVYQSRL           10.0    uM  13184.0           SM  GVYQSRL\n",
      "2  17-05-21-CTB1     HC7D           10.0    uM  13595.0            C      NaN\n",
      "3  17-05-21-CTB1   CTB-GV            NaN    uM  13627.0            P      NaN\n",
      "     Type       Reaction Time  Valid\n",
      "A1   Test  17-05-21-CTB1    0   True\n",
      "A2   Test  17-05-21-CTB1   30   True\n",
      "A3   Test  17-05-21-CTB1   60   True\n",
      "B1  empty            NaN  NaN   True\n",
      "B2  empty            NaN  NaN   True\n",
      "B3  empty            NaN  NaN   True\n"
     ]
    }
   ],
   "source": [
    "# PLATE MAP PROCESSING STARTS HERE\n",
    "rmap, pmap = pm2.read_in_long(map_path)\n",
    "eng = pm2.update_vars(eng, pmap, skip_empty = True)\n",
    "print(rmap)\n",
    "print(pmap)"
   ]
  },
  {
   "cell_type": "code",
   "execution_count": 8,
   "metadata": {},
   "outputs": [],
   "source": [
    "class Species:\n",
    "    def __init__(self, dictionary, name, peak = None):\n",
    "        self.__dict__.update(dictionary)\n",
    "        self.__name__ = name\n",
    "        self.peak = peak\n",
    "        \n",
    "    \n",
    "    def __repr__(self):\n",
    "        keys = [key for key, val in self.__dict__.items()]\n",
    "        vals = [val for key, val in self.__dict__.items()]\n",
    "        return self.__name__+ \"(\"+\", \".join(\"{} = {}\".format(*t) for t in zip(keys, vals))+\")\"        "
   ]
  },
  {
   "cell_type": "code",
   "execution_count": 9,
   "metadata": {},
   "outputs": [],
   "source": [
    "class Time:\n",
    "    def __init__(self, time, species, coord = None, name = 'Time'):\n",
    "        self.species = species # list of species in each time point\n",
    "        self.time = time\n",
    "        self.coord = coord\n",
    "        self.__name__= name\n",
    "        self.spectra = None\n",
    "        self.thresh = 1\n",
    "    \n",
    "    def __repr__(self):\n",
    "        species_str = \"species = (\" + \", \".join(s.__name__ for s in self.species)+\")\"\n",
    "        if self.spectra == None:\n",
    "            return self.__name__+ \"(time = {}, coord = {}, \".format(self.time, self.coord) + species_str + \")\" \n",
    "        else:\n",
    "            return self.__name__+ \"(time = {}, coord = {}, spectra = {}, \".format(self.time, self.coord, self.spectra)+ species_str + \")\" \n",
    "        \n",
    "    def extract_masses(self):\n",
    "        self.theory_masses = np.array([sp.Mass for sp in self.species])\n",
    "        self.species_name = np.array([sp.__name__ for sp in self.species], dtype = str)\n",
    "        self.data_masses= np.array([p.mass for p in self.spectra.pks.peaks])\n",
    "        self.pks = np.array([p for p in self.spectra.pks.peaks])\n",
    "        \n",
    "    def match_masses(self, thresh = None):\n",
    "        pass\n",
    "#         if thresh != None:\n",
    "#             self.thresh = thresh\n",
    "#         x, y = np.meshgrid(self.data_masses, self.theory_masses)\n",
    "#         diff = abs(x - y)\n",
    "#         diff[diff>self.thresh] = np.nan\n",
    "#         try:\n",
    "#             mins = np.nanargmin(diff, axis = 0)\n",
    "#             self.peaks = self.theory_masses[mins]\n",
    "#         except:\n",
    "#             mins = [np.nanargmin(i) for i in diff if np.isnan(i).all() == False]\n",
    "#             self.peaks = self.theory_masses[mins]"
   ]
  },
  {
   "cell_type": "code",
   "execution_count": 10,
   "metadata": {},
   "outputs": [],
   "source": [
    "reactions = uc.process(rmap, pmap, eng = eng)"
   ]
  },
  {
   "cell_type": "code",
   "execution_count": 11,
   "metadata": {},
   "outputs": [
    {
     "data": {
      "text/plain": [
       "{'17-05-21-CTB1': [Time(time = 0, coord = A1, spectra = <metaunidec.mudstruct.Spectrum object at 0x0000020540AE7460>, species = (CTB, CTB-GV, GVYQSRL, HC7D)),\n",
       "  Time(time = 30, coord = A2, spectra = <metaunidec.mudstruct.Spectrum object at 0x0000020540AE7340>, species = (CTB, CTB-GV, GVYQSRL, HC7D)),\n",
       "  Time(time = 60, coord = A3, spectra = <metaunidec.mudstruct.Spectrum object at 0x0000020540AE11C0>, species = (CTB, CTB-GV, GVYQSRL, HC7D))]}"
      ]
     },
     "execution_count": 11,
     "metadata": {},
     "output_type": "execute_result"
    }
   ],
   "source": [
    "reactions = uc.match_peaks(eng, reactions)\n",
    "reactions"
   ]
  },
  {
   "cell_type": "code",
   "execution_count": 12,
   "metadata": {},
   "outputs": [
    {
     "name": "stdout",
     "output_type": "stream",
     "text": [
      "[CTB(Reaction = 17-05-21-CTB1, Species = CTB, Concentration = 10.0, Units = uM, Mass = 13321.0, Reagent_Type = SM, Sequence = nan, __name__ = CTB, peak = <unidec_modules.peakstructure.Peak object at 0x00000205150FB0D0>, rmap = None, pmap = None, Time = ['0' '30' '60'], wells = ['A1' 'A2' 'A3']), CTB-GV(Reaction = 17-05-21-CTB1, Species = CTB-GV, Concentration = nan, Units = uM, Mass = 13627.0, Reagent_Type = P, Sequence = nan, __name__ = CTB-GV, peak = <unidec_modules.peakstructure.Peak object at 0x00000205150FB670>, rmap = None, pmap = None, Time = ['0' '30' '60'], wells = ['A1' 'A2' 'A3']), GVYQSRL(Reaction = 17-05-21-CTB1, Species = GVYQSRL, Concentration = 10.0, Units = uM, Mass = 13184.0, Reagent_Type = SM, Sequence = GVYQSRL, __name__ = GVYQSRL, peak = <unidec_modules.peakstructure.Peak object at 0x00000205150FB160>, rmap = None, pmap = None, Time = ['0' '30' '60'], wells = ['A1' 'A2' 'A3']), HC7D(Reaction = 17-05-21-CTB1, Species = HC7D, Concentration = 10.0, Units = uM, Mass = 13595.0, Reagent_Type = C, Sequence = nan, __name__ = HC7D, peak = <unidec_modules.peakstructure.Peak object at 0x00000205150FB100>, rmap = None, pmap = None, Time = ['0' '30' '60'], wells = ['A1' 'A2' 'A3'])]\n",
      "[CTB(Reaction = 17-05-21-CTB1, Species = CTB, Concentration = 10.0, Units = uM, Mass = 13321.0, Reagent_Type = SM, Sequence = nan, __name__ = CTB, peak = <unidec_modules.peakstructure.Peak object at 0x00000205150FB0D0>, rmap = None, pmap = None, Time = ['0' '30' '60'], wells = ['A1' 'A2' 'A3']), CTB-GV(Reaction = 17-05-21-CTB1, Species = CTB-GV, Concentration = nan, Units = uM, Mass = 13627.0, Reagent_Type = P, Sequence = nan, __name__ = CTB-GV, peak = <unidec_modules.peakstructure.Peak object at 0x00000205150FB670>, rmap = None, pmap = None, Time = ['0' '30' '60'], wells = ['A1' 'A2' 'A3']), GVYQSRL(Reaction = 17-05-21-CTB1, Species = GVYQSRL, Concentration = 10.0, Units = uM, Mass = 13184.0, Reagent_Type = SM, Sequence = GVYQSRL, __name__ = GVYQSRL, peak = <unidec_modules.peakstructure.Peak object at 0x00000205150FB160>, rmap = None, pmap = None, Time = ['0' '30' '60'], wells = ['A1' 'A2' 'A3']), HC7D(Reaction = 17-05-21-CTB1, Species = HC7D, Concentration = 10.0, Units = uM, Mass = 13595.0, Reagent_Type = C, Sequence = nan, __name__ = HC7D, peak = <unidec_modules.peakstructure.Peak object at 0x00000205150FB100>, rmap = None, pmap = None, Time = ['0' '30' '60'], wells = ['A1' 'A2' 'A3'])]\n",
      "[CTB(Reaction = 17-05-21-CTB1, Species = CTB, Concentration = 10.0, Units = uM, Mass = 13321.0, Reagent_Type = SM, Sequence = nan, __name__ = CTB, peak = <unidec_modules.peakstructure.Peak object at 0x00000205150FB0D0>, rmap = None, pmap = None, Time = ['0' '30' '60'], wells = ['A1' 'A2' 'A3']), CTB-GV(Reaction = 17-05-21-CTB1, Species = CTB-GV, Concentration = nan, Units = uM, Mass = 13627.0, Reagent_Type = P, Sequence = nan, __name__ = CTB-GV, peak = <unidec_modules.peakstructure.Peak object at 0x00000205150FB670>, rmap = None, pmap = None, Time = ['0' '30' '60'], wells = ['A1' 'A2' 'A3']), GVYQSRL(Reaction = 17-05-21-CTB1, Species = GVYQSRL, Concentration = 10.0, Units = uM, Mass = 13184.0, Reagent_Type = SM, Sequence = GVYQSRL, __name__ = GVYQSRL, peak = <unidec_modules.peakstructure.Peak object at 0x00000205150FB160>, rmap = None, pmap = None, Time = ['0' '30' '60'], wells = ['A1' 'A2' 'A3']), HC7D(Reaction = 17-05-21-CTB1, Species = HC7D, Concentration = 10.0, Units = uM, Mass = 13595.0, Reagent_Type = C, Sequence = nan, __name__ = HC7D, peak = <unidec_modules.peakstructure.Peak object at 0x00000205150FB100>, rmap = None, pmap = None, Time = ['0' '30' '60'], wells = ['A1' 'A2' 'A3'])]\n"
     ]
    }
   ],
   "source": [
    "for k, v in reactions.items():\n",
    "    for t in v:\n",
    "        print(t.species)"
   ]
  },
  {
   "cell_type": "code",
   "execution_count": 13,
   "metadata": {},
   "outputs": [
    {
     "data": {
      "text/plain": [
       "array([[ 3389886.2,  3731566. ,  1345707.9, 16745840. ],\n",
       "       [ 3389886.2,  3731566. ,  1345707.9, 16745840. ],\n",
       "       [ 3389886.2,  3731566. ,  1345707.9, 16745840. ]], dtype=float32)"
      ]
     },
     "execution_count": 13,
     "metadata": {},
     "output_type": "execute_result"
    },
    {
     "data": {
      "image/png": "[encoded data removed]",
      "text/plain": [
       "<Figure size 432x288 with 1 Axes>"
      ]
     },
     "metadata": {
      "needs_background": "light"
     },
     "output_type": "display_data"
    }
   ],
   "source": [
    "toplot = None\n",
    "for rkey, rval in reactions.items():\n",
    "    time = [(t.time) for t in rval]\n",
    "    spectra = [t.spectra for t in rval]\n",
    "    if toplot == None:\n",
    "        # get y vals for each species\n",
    "        allspecies = [t.species for t in rval]\n",
    "        \n",
    "    names = []\n",
    "    peaks = []\n",
    "    for specieslist in allspecies:\n",
    "        names.append(np.array([s.__name__ for s in specieslist]))\n",
    "        peaks.append(np.array([s.peak.integral[0] for s in specieslist]))\n",
    "        \n",
    "    \n",
    "        \n",
    "    names = np.array(names)\n",
    "    peaks = np.array(peaks)\n",
    "    \n",
    "    \n",
    "    plt.plot(time, peaks, marker = 'x')\n",
    "peaks"
   ]
  },
  {
   "cell_type": "code",
   "execution_count": 14,
   "metadata": {},
   "outputs": [
    {
     "data": {
      "text/plain": [
       "[[1219283.8, 1154638.2, 2394619.5, 11643148.0, 2706878.0, 927751.6],\n",
       " [1196650.0, 1171638.2, 2955347.0, 14578023.0, 3285878.0],\n",
       " [1359808.6, 1345707.9, 3389886.2, 16745840.0, 3731566.0]]"
      ]
     },
     "execution_count": 14,
     "metadata": {},
     "output_type": "execute_result"
    }
   ],
   "source": [
    "\n",
    "integrals = [[i[0] for i in s.integrals]for s in spectra]\n",
    "integrals"
   ]
  },
  {
   "cell_type": "code",
   "execution_count": 15,
   "metadata": {},
   "outputs": [],
   "source": [
    "def integrate_all(eng, int_range = None):\n",
    "    \"\"\"Creates new spectra attribute and stores areas for each peak there. (eventually put this in UniChrom)\"\"\"\n",
    "    spectra = eng.data.spectra\n",
    "    \n",
    "    if int_range == None:\n",
    "        lb, ub = -eng.config.peakwindow, eng.config.peakwindow\n",
    "    elif type(int_range) == float:\n",
    "        lb, ub = int_range[0], int_range[1]\n",
    "    else:\n",
    "        lb, ub = -int_range, int_range\n",
    "        \n",
    "    for s in spectra:\n",
    "        peak_ints = []\n",
    "\n",
    "        for p in s.pks.peaks:\n",
    "                p.integralrange = [p.mass+lb, p.mass+ub]\n",
    "                ints = (ud.integrate(s.massdat, p.integralrange[0], p.integralrange[1]))\n",
    "                p.integral = ints\n",
    "                peak_ints.append((ints))\n",
    "        \n",
    "        s.integrals = peak_ints\n",
    "    return eng"
   ]
  },
  {
   "cell_type": "code",
   "execution_count": 16,
   "metadata": {},
   "outputs": [],
   "source": [
    "eng = integrate_all(eng)"
   ]
  },
  {
   "cell_type": "code",
   "execution_count": 17,
   "metadata": {},
   "outputs": [
    {
     "name": "stdout",
     "output_type": "stream",
     "text": [
      "1219283.8\n",
      "1154638.2\n",
      "2394619.5\n",
      "11643148.0\n",
      "2706878.0\n",
      "927751.6\n",
      "1196650.0\n",
      "1171638.2\n",
      "2955347.0\n",
      "14578023.0\n",
      "3285878.0\n",
      "1359808.6\n",
      "1345707.9\n",
      "3389886.2\n",
      "16745840.0\n",
      "3731566.0\n"
     ]
    }
   ],
   "source": [
    "for s in eng.data.spectra:\n",
    "    for p in s.pks.peaks:\n",
    "        print(p.integral[0])"
   ]
  },
  {
   "cell_type": "code",
   "execution_count": 18,
   "metadata": {},
   "outputs": [],
   "source": [
    "def match_peaks(eng, reactions):\n",
    "\n",
    "    for rkey, rval in reactions.items():\n",
    "        for t in rval:\n",
    "            tm, dm = np.meshgrid(t.theory_masses, t.data_masses)\n",
    "            diff = abs(tm - dm)\n",
    "            diff[diff>10] = np.nan\n",
    "            for i, d in enumerate(diff):\n",
    "                if np.isnan(d).all()==False:\n",
    "                    minimum = np.nanargmin(d)\n",
    "                    data_peak = t.data_masses[i]\n",
    "                    t.species[minimum].peak = t.pks[i]\n",
    "    return reactions"
   ]
  },
  {
   "cell_type": "code",
   "execution_count": 19,
   "metadata": {},
   "outputs": [
    {
     "name": "stdout",
     "output_type": "stream",
     "text": [
      "0 GVYQSRL 1154638.2\n",
      "yes\n",
      "0 CTB 2394619.5\n",
      "yes\n",
      "0 HC7D 11643148.0\n",
      "yes\n",
      "0 CTB-GV 2706878.0\n",
      "yes\n",
      "30 GVYQSRL 1171638.2\n",
      "yes\n",
      "30 CTB 2955347.0\n",
      "yes\n",
      "30 HC7D 14578023.0\n",
      "yes\n",
      "30 CTB-GV 3285878.0\n",
      "yes\n",
      "60 GVYQSRL 1345707.9\n",
      "yes\n",
      "60 CTB 3389886.2\n",
      "yes\n",
      "60 HC7D 16745840.0\n",
      "yes\n",
      "60 CTB-GV 3731566.0\n",
      "yes\n",
      "-------------------------------\n",
      "0 CTB 3389886.2\n",
      "0 CTB-GV 3731566.0\n",
      "0 GVYQSRL 1345707.9\n",
      "0 HC7D 16745840.0\n",
      "30 CTB 3389886.2\n",
      "30 CTB-GV 3731566.0\n",
      "30 GVYQSRL 1345707.9\n",
      "30 HC7D 16745840.0\n",
      "60 CTB 3389886.2\n",
      "60 CTB-GV 3731566.0\n",
      "60 GVYQSRL 1345707.9\n",
      "60 HC7D 16745840.0\n"
     ]
    }
   ],
   "source": [
    "for rkey, rval in reactions.items():\n",
    "    integrals = []\n",
    "    names = []\n",
    "    time = []\n",
    "    for t in rval:\n",
    "        t.peak_names = []\n",
    "        t.integrals = []\n",
    "        time.append(t.time)\n",
    "        tm, dm = np.meshgrid(t.theory_masses, t.data_masses)\n",
    "        diff = abs(tm - dm)\n",
    "        diff[diff>10] = np.nan\n",
    "        for i, d in enumerate(diff):\n",
    "            if np.isnan(d).all()==False:\n",
    "                minimum = np.nanargmin(d)\n",
    "                data_peak = t.data_masses[i]\n",
    "                t.species[minimum].peak = t.pks[i]\n",
    "                t.species[minimum].integral = t.species[minimum].peak.integral[0]\n",
    "                t.peak_names.append(t.species[minimum].__name__)\n",
    "                t.integrals.append(t.species[minimum].peak.integral[0])\n",
    "                \n",
    "                print(t.time, t.species[minimum].__name__, t.species[minimum].integral)\n",
    "                for s in t.species:\n",
    "                    if s.__name__ == t.species[minimum].__name__:\n",
    "                        print('yes')\n",
    "                        s = t.species[minimum]\n",
    "print(\"-------------------------------\")\n",
    "for rkey, rval in reactions.items():\n",
    "    for t in rval:\n",
    "        for s in t.species:\n",
    "            print(t.time, s.__name__, s.integral)"
   ]
  },
  {
   "cell_type": "code",
   "execution_count": 20,
   "metadata": {},
   "outputs": [
    {
     "name": "stdout",
     "output_type": "stream",
     "text": [
      "[CTB(Reaction = 17-05-21-CTB1, Species = CTB, Concentration = 10.0, Units = uM, Mass = 13321.0, Reagent_Type = SM, Sequence = nan, __name__ = CTB, peak = <unidec_modules.peakstructure.Peak object at 0x00000205150FB0D0>, rmap = None, pmap = None, Time = ['0' '30' '60'], wells = ['A1' 'A2' 'A3'], integral = 3389886.25), CTB-GV(Reaction = 17-05-21-CTB1, Species = CTB-GV, Concentration = nan, Units = uM, Mass = 13627.0, Reagent_Type = P, Sequence = nan, __name__ = CTB-GV, peak = <unidec_modules.peakstructure.Peak object at 0x00000205150FB670>, rmap = None, pmap = None, Time = ['0' '30' '60'], wells = ['A1' 'A2' 'A3'], integral = 3731566.0), GVYQSRL(Reaction = 17-05-21-CTB1, Species = GVYQSRL, Concentration = 10.0, Units = uM, Mass = 13184.0, Reagent_Type = SM, Sequence = GVYQSRL, __name__ = GVYQSRL, peak = <unidec_modules.peakstructure.Peak object at 0x00000205150FB160>, rmap = None, pmap = None, Time = ['0' '30' '60'], wells = ['A1' 'A2' 'A3'], integral = 1345707.875), HC7D(Reaction = 17-05-21-CTB1, Species = HC7D, Concentration = 10.0, Units = uM, Mass = 13595.0, Reagent_Type = C, Sequence = nan, __name__ = HC7D, peak = <unidec_modules.peakstructure.Peak object at 0x00000205150FB100>, rmap = None, pmap = None, Time = ['0' '30' '60'], wells = ['A1' 'A2' 'A3'], integral = 16745840.0)]\n",
      "CTB 3389886.2 0\n",
      "CTB-GV 3731566.0 0\n",
      "GVYQSRL 1345707.9 0\n",
      "HC7D 16745840.0 0\n",
      "[CTB(Reaction = 17-05-21-CTB1, Species = CTB, Concentration = 10.0, Units = uM, Mass = 13321.0, Reagent_Type = SM, Sequence = nan, __name__ = CTB, peak = <unidec_modules.peakstructure.Peak object at 0x00000205150FB0D0>, rmap = None, pmap = None, Time = ['0' '30' '60'], wells = ['A1' 'A2' 'A3'], integral = 3389886.25), CTB-GV(Reaction = 17-05-21-CTB1, Species = CTB-GV, Concentration = nan, Units = uM, Mass = 13627.0, Reagent_Type = P, Sequence = nan, __name__ = CTB-GV, peak = <unidec_modules.peakstructure.Peak object at 0x00000205150FB670>, rmap = None, pmap = None, Time = ['0' '30' '60'], wells = ['A1' 'A2' 'A3'], integral = 3731566.0), GVYQSRL(Reaction = 17-05-21-CTB1, Species = GVYQSRL, Concentration = 10.0, Units = uM, Mass = 13184.0, Reagent_Type = SM, Sequence = GVYQSRL, __name__ = GVYQSRL, peak = <unidec_modules.peakstructure.Peak object at 0x00000205150FB160>, rmap = None, pmap = None, Time = ['0' '30' '60'], wells = ['A1' 'A2' 'A3'], integral = 1345707.875), HC7D(Reaction = 17-05-21-CTB1, Species = HC7D, Concentration = 10.0, Units = uM, Mass = 13595.0, Reagent_Type = C, Sequence = nan, __name__ = HC7D, peak = <unidec_modules.peakstructure.Peak object at 0x00000205150FB100>, rmap = None, pmap = None, Time = ['0' '30' '60'], wells = ['A1' 'A2' 'A3'], integral = 16745840.0)]\n",
      "CTB 3389886.2 30\n",
      "CTB-GV 3731566.0 30\n",
      "GVYQSRL 1345707.9 30\n",
      "HC7D 16745840.0 30\n",
      "[CTB(Reaction = 17-05-21-CTB1, Species = CTB, Concentration = 10.0, Units = uM, Mass = 13321.0, Reagent_Type = SM, Sequence = nan, __name__ = CTB, peak = <unidec_modules.peakstructure.Peak object at 0x00000205150FB0D0>, rmap = None, pmap = None, Time = ['0' '30' '60'], wells = ['A1' 'A2' 'A3'], integral = 3389886.25), CTB-GV(Reaction = 17-05-21-CTB1, Species = CTB-GV, Concentration = nan, Units = uM, Mass = 13627.0, Reagent_Type = P, Sequence = nan, __name__ = CTB-GV, peak = <unidec_modules.peakstructure.Peak object at 0x00000205150FB670>, rmap = None, pmap = None, Time = ['0' '30' '60'], wells = ['A1' 'A2' 'A3'], integral = 3731566.0), GVYQSRL(Reaction = 17-05-21-CTB1, Species = GVYQSRL, Concentration = 10.0, Units = uM, Mass = 13184.0, Reagent_Type = SM, Sequence = GVYQSRL, __name__ = GVYQSRL, peak = <unidec_modules.peakstructure.Peak object at 0x00000205150FB160>, rmap = None, pmap = None, Time = ['0' '30' '60'], wells = ['A1' 'A2' 'A3'], integral = 1345707.875), HC7D(Reaction = 17-05-21-CTB1, Species = HC7D, Concentration = 10.0, Units = uM, Mass = 13595.0, Reagent_Type = C, Sequence = nan, __name__ = HC7D, peak = <unidec_modules.peakstructure.Peak object at 0x00000205150FB100>, rmap = None, pmap = None, Time = ['0' '30' '60'], wells = ['A1' 'A2' 'A3'], integral = 16745840.0)]\n",
      "CTB 3389886.2 60\n",
      "CTB-GV 3731566.0 60\n",
      "GVYQSRL 1345707.9 60\n",
      "HC7D 16745840.0 60\n"
     ]
    }
   ],
   "source": [
    "for rkey, rval in reactions.items():\n",
    "    for t in rval:\n",
    "        print(t.species)\n",
    "        for s in t.species:\n",
    "            print(s.__name__, s.integral, t.time)"
   ]
  },
  {
   "cell_type": "code",
   "execution_count": 21,
   "metadata": {},
   "outputs": [
    {
     "name": "stdout",
     "output_type": "stream",
     "text": [
      "[]\n",
      "--------\n",
      "[]\n",
      "[]\n",
      "['0' '30' '60']\n"
     ]
    }
   ],
   "source": [
    "names = np.array(names)\n",
    "integrals = np.array(integrals)\n",
    "integralsT = integrals.T\n",
    "namesT = names.T\n",
    "timeT = np.array(time)\n",
    "print(integrals)\n",
    "print(\"--------\")\n",
    "print(integrals.T)\n",
    "print(names.T)\n",
    "print(timeT)"
   ]
  },
  {
   "cell_type": "code",
   "execution_count": 22,
   "metadata": {},
   "outputs": [
    {
     "name": "stdout",
     "output_type": "stream",
     "text": [
      "['GVYQSRL', 'CTB', 'HC7D', 'CTB-GV']\n",
      "['GVYQSRL', 'CTB', 'HC7D', 'CTB-GV']\n",
      "['GVYQSRL', 'CTB', 'HC7D', 'CTB-GV']\n"
     ]
    },
    {
     "data": {
      "image/png": "[encoded data removed]",
      "text/plain": [
       "<Figure size 432x288 with 1 Axes>"
      ]
     },
     "metadata": {
      "needs_background": "light"
     },
     "output_type": "display_data"
    },
    {
     "name": "stdout",
     "output_type": "stream",
     "text": [
      "[[1154638.2, 2394619.5, 11643148.0, 2706878.0], [1171638.2, 2955347.0, 14578023.0, 3285878.0], [1345707.9, 3389886.2, 16745840.0, 3731566.0]]\n",
      "[[ 1154638.2  1171638.2  1345707.9]\n",
      " [ 2394619.5  2955347.   3389886.2]\n",
      " [11643148.  14578023.  16745840. ]\n",
      " [ 2706878.   3285878.   3731566. ]]\n"
     ]
    }
   ],
   "source": [
    "for rkey, rval in reactions.items():\n",
    "    time = []\n",
    "    ints = []\n",
    "    for t in rval:\n",
    "        time.append(t.time)\n",
    "        ints.append(t.integrals)\n",
    "        print(t.peak_names)\n",
    "\n",
    "#     time = np.array(time)\n",
    "    intsT = np.array(ints).T\n",
    "    for n, i in enumerate(intsT):\n",
    "        plt.plot(time, i, marker = 'x', label = t.peak_names[n])\n",
    "        plt.legend()\n",
    "        plt.xlabel('Time / s')\n",
    "        plt.ylabel('AUC')\n",
    "    plt.show()\n",
    "print(ints)\n",
    "print(intsT)"
   ]
  },
  {
   "cell_type": "code",
   "execution_count": 23,
   "metadata": {},
   "outputs": [
    {
     "name": "stdout",
     "output_type": "stream",
     "text": [
      "0 3389886.2\n",
      "0 3731566.0\n",
      "0 1345707.9\n",
      "0 16745840.0\n",
      "30 3389886.2\n",
      "30 3731566.0\n",
      "30 1345707.9\n",
      "30 16745840.0\n",
      "60 3389886.2\n",
      "60 3731566.0\n",
      "60 1345707.9\n",
      "60 16745840.0\n"
     ]
    },
    {
     "data": {
      "image/png": "[encoded data removed]",
      "text/plain": [
       "<Figure size 432x288 with 1 Axes>"
      ]
     },
     "metadata": {
      "needs_background": "light"
     },
     "output_type": "display_data"
    }
   ],
   "source": [
    "for rkey, rval in reactions.items():\n",
    "    time = []\n",
    "    ints = []\n",
    "    names = []\n",
    "    for t in rval:\n",
    "        time.append(t.time)\n",
    "        ints.append(t.integrals)\n",
    "        names.append(t.peak_names)\n",
    "        for sp in t.species:\n",
    "            print(t.time, sp.peak.integral[0])\n",
    "            plt.scatter(t.time, sp.integral)\n",
    "plt.show()"
   ]
  },
  {
   "cell_type": "code",
   "execution_count": 24,
   "metadata": {},
   "outputs": [
    {
     "data": {
      "text/plain": [
       "array([], shape=(0, 3), dtype=float64)"
      ]
     },
     "execution_count": 24,
     "metadata": {},
     "output_type": "execute_result"
    }
   ],
   "source": [
    "x, y = np.meshgrid(time, integrals)\n",
    "y"
   ]
  },
  {
   "cell_type": "code",
   "execution_count": 25,
   "metadata": {},
   "outputs": [
    {
     "name": "stdout",
     "output_type": "stream",
     "text": [
      "0\n",
      "2394619.5\n",
      "2706878.0\n",
      "1154638.2\n",
      "11643148.0\n",
      "30\n",
      "2955347.0\n",
      "3285878.0\n",
      "1171638.2\n",
      "14578023.0\n",
      "60\n",
      "3389886.2\n",
      "3731566.0\n",
      "1345707.9\n",
      "16745840.0\n",
      "-------------------------------\n",
      "0\n",
      "3389886.2\n",
      "3731566.0\n",
      "1345707.9\n",
      "16745840.0\n",
      "30\n",
      "3389886.2\n",
      "3731566.0\n",
      "1345707.9\n",
      "16745840.0\n",
      "60\n",
      "3389886.2\n",
      "3731566.0\n",
      "1345707.9\n",
      "16745840.0\n"
     ]
    }
   ],
   "source": [
    "for rkey, rval in reactions.items():\n",
    "    integrals = []\n",
    "    names = []\n",
    "    time = []\n",
    "    dct = {}\n",
    "    for t in rval:\n",
    "        tdct = {}\n",
    "        t.peak_names = []\n",
    "        t.integrals = []\n",
    "        time.append(t.time)\n",
    "        tm, dm = np.meshgrid(t.theory_masses, t.data_masses)\n",
    "        diff = abs(tm - dm)\n",
    "        diff[diff>10] = np.nan\n",
    "        for i, d in enumerate(diff):\n",
    "            if np.isnan(d).all()==False:\n",
    "                minimum = np.nanargmin(d)\n",
    "                data_peak = t.data_masses[i]\n",
    "                t.species[minimum].peak = t.pks[i]\n",
    "                t.species[minimum].integral = t.species[minimum].peak.integral[0]\n",
    "                tdct[t.species[minimum].__name__] = t.species[minimum].integral\n",
    "                t.peak_names.append(t.species[minimum].__name__)\n",
    "                t.integrals.append(t.species[minimum].peak.integral[0])\n",
    "                setattr(t.species[minimum], 'integral', t.pks[i].integral[0])\n",
    "#                 for s in t.species:\n",
    "#                     if s.__name__ == t.species[minimum].__name__:\n",
    "#                         setattr(s, 'integral', t.species[minimum].integral)\n",
    "#                         print(s.integral, t.species[minimum].integral)\n",
    "        dct[t.time] = tdct\n",
    "        print(t.time)\n",
    "        for s in t.species:\n",
    "            print(s.integral)\n",
    "print(\"-------------------------------\")\n",
    "for rkey, rval in reactions.items():\n",
    "    for t in rval:\n",
    "        print(t.time)\n",
    "        for s in t.species:\n",
    "            print(s.integral)"
   ]
  },
  {
   "cell_type": "code",
   "execution_count": 26,
   "metadata": {},
   "outputs": [
    {
     "data": {
      "text/plain": [
       "{'0': {'GVYQSRL': 1154638.2,\n",
       "  'CTB': 2394619.5,\n",
       "  'HC7D': 11643148.0,\n",
       "  'CTB-GV': 2706878.0},\n",
       " '30': {'GVYQSRL': 1171638.2,\n",
       "  'CTB': 2955347.0,\n",
       "  'HC7D': 14578023.0,\n",
       "  'CTB-GV': 3285878.0},\n",
       " '60': {'GVYQSRL': 1345707.9,\n",
       "  'CTB': 3389886.2,\n",
       "  'HC7D': 16745840.0,\n",
       "  'CTB-GV': 3731566.0}}"
      ]
     },
     "execution_count": 26,
     "metadata": {},
     "output_type": "execute_result"
    }
   ],
   "source": [
    "dct"
   ]
  },
  {
   "cell_type": "code",
   "execution_count": 33,
   "metadata": {},
   "outputs": [
    {
     "name": "stdout",
     "output_type": "stream",
     "text": [
      "-------------------------------\n",
      "0\n",
      "1345707.9\n",
      "3389886.2\n",
      "16745840.0\n",
      "3731566.0\n",
      "30\n",
      "1345707.9\n",
      "3389886.2\n",
      "16745840.0\n",
      "3731566.0\n",
      "60\n",
      "1345707.9\n",
      "3389886.2\n",
      "16745840.0\n",
      "3731566.0\n"
     ]
    }
   ],
   "source": [
    "for rkey, rval in reactions.items():\n",
    "    integrals = []\n",
    "    names = []\n",
    "    time = []\n",
    "    species_all = []\n",
    "    for t in rval:\n",
    "        species = []\n",
    "        t.integrals = []\n",
    "        time.append(t.time)\n",
    "        tm, dm = np.meshgrid(t.theory_masses, t.data_masses)\n",
    "        diff = abs(tm - dm)\n",
    "        diff[diff>10] = np.nan\n",
    "        for i, d in enumerate(diff):\n",
    "            if np.isnan(d).all()==False:\n",
    "                minimum = np.nanargmin(d)\n",
    "                data_peak = t.data_masses[i]\n",
    "                t.species[minimum].peak = t.pks[i]\n",
    "                t.species[minimum].integral = t.species[minimum].peak.integral[0]\n",
    "                species.append(t.species[minimum])\n",
    "                \n",
    "        t.species = species\n",
    "#         print(species)\n",
    "        species_all.append(species)\n",
    "print(\"-------------------------------\")\n",
    "for rkey, rval in reactions.items():\n",
    "    for t in rval:\n",
    "        print(t.time)\n",
    "        for s in t.species:\n",
    "            print(s.integral)"
   ]
  },
  {
   "cell_type": "code",
   "execution_count": 34,
   "metadata": {},
   "outputs": [
    {
     "name": "stdout",
     "output_type": "stream",
     "text": [
      "1345707.9\n",
      "3389886.2\n",
      "16745840.0\n",
      "3731566.0\n",
      "1345707.9\n",
      "3389886.2\n",
      "16745840.0\n",
      "3731566.0\n",
      "1345707.9\n",
      "3389886.2\n",
      "16745840.0\n",
      "3731566.0\n"
     ]
    }
   ],
   "source": [
    "for sp in species_all:\n",
    "    for s in sp:\n",
    "        print(s.integral)"
   ]
  }
 ],
 "metadata": {
  "kernelspec": {
   "display_name": "Python 3",
   "language": "python",
   "name": "python3"
  }
 },
 "nbformat": 4,
 "nbformat_minor": 4
}
