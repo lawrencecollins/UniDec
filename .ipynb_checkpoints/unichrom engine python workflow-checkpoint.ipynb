{
 "cells": [
  {
   "cell_type": "code",
   "execution_count": 1,
   "metadata": {},
   "outputs": [],
   "source": [
    "import matplotlib.pyplot as plt\n",
    "\n",
    "from unidec_modules.ChromEng2 import *"
   ]
  },
  {
   "cell_type": "code",
   "execution_count": 2,
   "metadata": {},
   "outputs": [
    {
     "name": "stdout",
     "output_type": "stream",
     "text": [
      "\n",
      "UniDec Engine v.4.4.0\n",
      "\n",
      "UniDec Path: C:\\Users\\cm19ljc\\Documents\\GitHub\\UniDec\\unidec_bin\\UniDec.exe\n",
      "\n",
      "UniDec Engine v.4.4.0\n",
      "\n",
      "UniDec Path: C:\\Users\\cm19ljc\\Documents\\GitHub\\UniDec\\unidec_bin\\UniDec.exe\n"
     ]
    }
   ],
   "source": [
    "path = \"C:\\\\Users\\\\cm19ljc\\\\Documents\\\\GitHub\\\\UniDec\\\\mzML\\\\mzML.mzML\"\n",
    "eng = ChromEngine()"
   ]
  },
  {
   "cell_type": "code",
   "execution_count": 3,
   "metadata": {},
   "outputs": [
    {
     "name": "stdout",
     "output_type": "stream",
     "text": [
      "Opening HDF5 File: C:\\Users\\cm19ljc\\Documents\\GitHub\\UniDec\\mzML\\mzML.hdf5\n",
      "Reading mzML: C:\\Users\\cm19ljc\\Documents\\GitHub\\UniDec\\mzML\\mzML.mzML\n",
      "[Warning] Not index found and build_index_from_scratch is False\n",
      "Converted to gzip file to improve speed: C:\\Users\\cm19ljc\\Documents\\GitHub\\UniDec\\mzML\\mzML.mzML.gz\n",
      "Error getting TIC in mzML; trying to make it...\n",
      "Imported Data. Constructing TIC\n",
      "Done\n"
     ]
    },
    {
     "data": {
      "text/plain": [
       "True"
      ]
     },
     "execution_count": 3,
     "metadata": {},
     "output_type": "execute_result"
    }
   ],
   "source": [
    "eng.load_mzml(path)"
   ]
  },
  {
   "cell_type": "code",
   "execution_count": 4,
   "metadata": {},
   "outputs": [
    {
     "name": "stdout",
     "output_type": "stream",
     "text": [
      "1070 2\n",
      "Noise Level: 0.03357343719702872 Window: 0.05\n",
      "Bad Peak [0.419567   0.30422294] 0.23768299999999998 [0.419567, 0.65725]\n",
      "Bad Peak [0.602767   0.24142904] 0.24183299999999996 [0.419567, 0.6614]\n",
      "0.702967 0.14128400000000008\n",
      "0.790233 0.16205000000000003\n",
      "1.0312 0.13711000000000007\n",
      "1.95747 0.1411800000000003\n",
      "2.88835 0.13712999999999997\n",
      "Bad Peak [3.76958    0.03455761] 0.8769500000000003 [3.7197, 4.59665]\n",
      "Bad Peak [4.23498    0.03712807] 0.6733000000000002 [3.91918, 4.59248]\n",
      "Bad Peak [5.02062    0.03889817] 0.26602000000000015 [4.77123, 5.03725]\n"
     ]
    },
    {
     "data": {
      "text/plain": [
       "([array([0.702967  , 0.13838679]),\n",
       "  array([0.790233  , 0.09750636]),\n",
       "  array([1.0312    , 0.74873995]),\n",
       "  array([1.95747   , 0.88543616]),\n",
       "  array([2.88835, 1.     ])],\n",
       " [[0.686333, 0.827617],\n",
       "  [0.682183, 0.844233],\n",
       "  [1.00212, 1.13923],\n",
       "  [1.9284, 2.06958],\n",
       "  [2.85927, 2.9964]])"
      ]
     },
     "execution_count": 4,
     "metadata": {},
     "output_type": "execute_result"
    }
   ],
   "source": [
    "eng.config.chrom_peak_width = 0.05\n",
    "eng.get_chrom_peaks()"
   ]
  },
  {
   "cell_type": "code",
   "execution_count": 5,
   "metadata": {},
   "outputs": [
    {
     "data": {
      "text/plain": [
       "[[1.00212, 1.13923], [1.9284, 2.06958], [2.85927, 2.9964]]"
      ]
     },
     "execution_count": 5,
     "metadata": {},
     "output_type": "execute_result"
    }
   ],
   "source": [
    "TIC_min = 1\n",
    "tranges = eng.chrompeaks_tranges\n",
    "eng.chrompeaks_tranges = [i for i in tranges if all(j > TIC_min for j in i)]\n",
    "eng.chrompeaks_tranges"
   ]
  },
  {
   "cell_type": "code",
   "execution_count": 8,
   "metadata": {},
   "outputs": [
    {
     "name": "stdout",
     "output_type": "stream",
     "text": [
      "Getting scans: [98, 131]\n",
      "Length merge axis: 28915\n",
      "Getting scans: [321, 355]\n",
      "Length merge axis: 30293\n",
      "Getting scans: [545, 578]\n",
      "Length merge axis: 31336\n"
     ]
    }
   ],
   "source": [
    "eng.config.sw_scan_offset = 0 # ??? defaults to 10\n",
    "\n",
    "eng.add_chrom_peaks2() # stores data from selected peaks ready for metaunidec processing"
   ]
  },
  {
   "cell_type": "code",
   "execution_count": null,
   "metadata": {},
   "outputs": [],
   "source": [
    "eng.config.subtype = 2 # background subtraction - subtract curved\n",
    "eng.config.subbuff = 100 # background subtraction amount(subtract curved) 0 = 0ff, 100 = good amount when on\n",
    "eng.config.datanorm = 0 # turn off data normalisation\n",
    "\n",
    "# -- Deconvolution\n",
    "eng.config.numit = 100 # number of iterations\n",
    "\n",
    "# mass range (default = 5000.0 to 500000.0 Da)\n",
    "eng.config.massub = 15000 # upper \n",
    "eng.config.masslb = 11000 # lower\n",
    "\n",
    "eng.config.massbins = 0.1 # sample mass every 0.1 Da\n",
    "\n",
    "# FWHM \n",
    "# eng.get_auto_peak_width()\n",
    "eng.config.mzsig = 0 \n",
    "\n",
    "# charge range\n",
    "eng.config.startz = 1\n",
    "eng.config.endz = 30\n",
    "\n",
    "# smoothing \n",
    "eng.config.zzsig = 1 # charge smooth width (smooth charge state distributions)\n",
    "eng.config.psig = 1 # smooth nearby points (point smooth width, some = 1)\n",
    "eng.config.beta = 0 # suppress artifacts (beta, some = 50)\n",
    "\n",
    "eng.config.psfun = 0 # Peak shape function (gaussian, lorentzian, split G/L)\n",
    "\n",
    "# -- Peak Selection and plotting\n",
    "eng.config.peaknorm = 0 # Normalise peaks (0 = off)\n",
    "eng.config.datanorm = 0\n",
    "eng.config.peakwindow = 100 # peak window / Da\n",
    "eng.config.exnorm = 0 # extract normalisation\n",
    "eng.config.peakthresh = 0.05\n",
    "eng.config.nativeub = 10\n",
    "eng.config.nativelb = -10"
   ]
  },
  {
   "cell_type": "code",
   "execution_count": 12,
   "metadata": {},
   "outputs": [],
   "source": [
    "eng.data.export_hdf5()"
   ]
  },
  {
   "cell_type": "code",
   "execution_count": 14,
   "metadata": {},
   "outputs": [
    {
     "name": "stdout",
     "output_type": "stream",
     "text": [
      "Execution Time: 0.03771869999999922\n",
      "Execution Time: 1.5299275000000137\n"
     ]
    }
   ],
   "source": [
    "eng.process_data()\n",
    "eng.run_unidec()"
   ]
  },
  {
   "cell_type": "code",
   "execution_count": 19,
   "metadata": {},
   "outputs": [
    {
     "name": "stdout",
     "output_type": "stream",
     "text": [
      "{'Variable 1': 0, 'Variable 2': 0, 'beta': array([0.], dtype=float32), 'error': array([1.5117859e+10], dtype=float32), 'iterations': array([99]), 'length_mass': array([40000]), 'length_mz': array([28915]), 'mzsig': array([0.], dtype=float32), 'name': '1.00212', 'psig': array([1.], dtype=float32), 'rsquared': array([0.99012554], dtype=float32), 'scanend': 131, 'scanmid': 114.5, 'scanstart': 98, 'time': array([0.466], dtype=float32), 'timeend': 1.13923, 'timemid': 1.070675, 'timestart': 1.00212, 'uniscore': array([0.922902], dtype=float32), 'zsig': array([1.], dtype=float32)}\n",
      "~\n"
     ]
    },
    {
     "data": {
      "image/png": "[encoded data removed]",
      "text/plain": [
       "<Figure size 432x288 with 2 Axes>"
      ]
     },
     "metadata": {
      "needs_background": "light"
     },
     "output_type": "display_data"
    },
    {
     "name": "stdout",
     "output_type": "stream",
     "text": [
      "{'Variable 1': 0, 'Variable 2': 0, 'beta': array([0.], dtype=float32), 'error': array([2.295656e+10], dtype=float32), 'iterations': array([99]), 'length_mass': array([39990]), 'length_mz': array([30293]), 'mzsig': array([0.], dtype=float32), 'name': '1.9284', 'psig': array([1.], dtype=float32), 'rsquared': array([0.99028623], dtype=float32), 'scanend': 355, 'scanmid': 338.0, 'scanstart': 321, 'time': array([0.493], dtype=float32), 'timeend': 2.06958, 'timemid': 1.99899, 'timestart': 1.9284, 'uniscore': array([0.93011117], dtype=float32), 'zsig': array([1.], dtype=float32)}\n",
      "~\n"
     ]
    },
    {
     "data": {
      "image/png": "[encoded data removed]",
      "text/plain": [
       "<Figure size 432x288 with 2 Axes>"
      ]
     },
     "metadata": {
      "needs_background": "light"
     },
     "output_type": "display_data"
    },
    {
     "name": "stdout",
     "output_type": "stream",
     "text": [
      "{'Variable 1': 0, 'Variable 2': 0, 'beta': array([0.], dtype=float32), 'error': array([2.029854e+10], dtype=float32), 'iterations': array([99]), 'length_mass': array([40000]), 'length_mz': array([31336]), 'mzsig': array([0.], dtype=float32), 'name': '2.85927', 'psig': array([1.], dtype=float32), 'rsquared': array([0.9938575], dtype=float32), 'scanend': 578, 'scanmid': 561.5, 'scanstart': 545, 'time': array([0.514], dtype=float32), 'timeend': 2.9964, 'timemid': 2.927835, 'timestart': 2.85927, 'uniscore': array([0.9421552], dtype=float32), 'zsig': array([1.], dtype=float32)}\n",
      "~\n"
     ]
    },
    {
     "data": {
      "image/png": "[encoded data removed]",
      "text/plain": [
       "<Figure size 432x288 with 2 Axes>"
      ]
     },
     "metadata": {
      "needs_background": "light"
     },
     "output_type": "display_data"
    }
   ],
   "source": [
    "for s in eng.data.spectra: \n",
    "    fig, (ax1, ax2) = plt.subplots(1, 2)\n",
    "    raw = s.rawdata\n",
    "    massd = s.massdat\n",
    "    ax1.plot(raw[:, 0], raw[:, 1])\n",
    "    ax2.plot(massd[:, 0], massd[:, 1])\n",
    "    print(s.attrs)\n",
    "    \n",
    "    print(\"~\")\n",
    "    plt.show()"
   ]
  },
  {
   "cell_type": "code",
   "execution_count": null,
   "metadata": {},
   "outputs": [],
   "source": []
  }
 ],
 "metadata": {
  "kernelspec": {
   "display_name": "Python 3",
   "language": "python",
   "name": "python3"
  },
  "language_info": {
   "codemirror_mode": {
    "name": "ipython",
    "version": 3
   },
   "file_extension": ".py",
   "mimetype": "text/x-python",
   "name": "python",
   "nbconvert_exporter": "python",
   "pygments_lexer": "ipython3",
   "version": "3.8.5"
  }
 },
 "nbformat": 4,
 "nbformat_minor": 4
}
