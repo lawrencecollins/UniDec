{
 "cells": [
  {
   "cell_type": "code",
   "execution_count": 1,
   "metadata": {},
   "outputs": [],
   "source": [
    "import plate_map as pm"
   ]
  },
  {
   "cell_type": "code",
   "execution_count": 2,
   "metadata": {},
   "outputs": [],
   "source": [
    "header_names = {'Well ID': {'dtype':str, 'long':True, 'short_row': False, 'short_col':False},\n",
    "                'Type': {'dtype':str, 'long':True, 'short_row': True, 'short_col':True},\n",
    "                'Protein Name': {'dtype':str, 'long':True, 'short_row': True, 'short_col':True},\n",
    "                'Protein Concentration': {'dtype':float, 'long':True, 'short_row': True, 'short_col':True},\n",
    "                'Reagent Name': {'dtype':str, 'long':True, 'short_row': True, 'short_col':True},\n",
    "                'Reagent Concentration': {'dtype':float, 'long':True, 'short_row': True, 'short_col':True},\n",
    "                'Concentration Units':{'dtype':str, 'long':True, 'short_row': True, 'short_col':True},\n",
    "                'Time':{'dtype':float, 'long':True, 'short_row': True, 'short_col':True},\n",
    "               }\n",
    "size = 6"
   ]
  },
  {
   "cell_type": "code",
   "execution_count": 3,
   "metadata": {},
   "outputs": [
    {
     "data": {
      "text/html": [
       "<div>\n",
       "<style scoped>\n",
       "    .dataframe tbody tr th:only-of-type {\n",
       "        vertical-align: middle;\n",
       "    }\n",
       "\n",
       "    .dataframe tbody tr th {\n",
       "        vertical-align: top;\n",
       "    }\n",
       "\n",
       "    .dataframe thead th {\n",
       "        text-align: right;\n",
       "    }\n",
       "</style>\n",
       "<table border=\"1\" class=\"dataframe\">\n",
       "  <thead>\n",
       "    <tr style=\"text-align: right;\">\n",
       "      <th></th>\n",
       "      <th>Type</th>\n",
       "      <th>Protein Name</th>\n",
       "      <th>Protein Concentration</th>\n",
       "      <th>Reagent Name</th>\n",
       "      <th>Reagent Concentration</th>\n",
       "      <th>Concentration Units</th>\n",
       "      <th>Time</th>\n",
       "      <th>Valid</th>\n",
       "    </tr>\n",
       "  </thead>\n",
       "  <tbody>\n",
       "    <tr>\n",
       "      <th>A1</th>\n",
       "      <td>test</td>\n",
       "      <td>Protein X</td>\n",
       "      <td>10</td>\n",
       "      <td>NaN</td>\n",
       "      <td>10</td>\n",
       "      <td>nM</td>\n",
       "      <td>0</td>\n",
       "      <td>True</td>\n",
       "    </tr>\n",
       "    <tr>\n",
       "      <th>A2</th>\n",
       "      <td>test</td>\n",
       "      <td>Protein X</td>\n",
       "      <td>10</td>\n",
       "      <td>NaN</td>\n",
       "      <td>10</td>\n",
       "      <td>nM</td>\n",
       "      <td>30</td>\n",
       "      <td>True</td>\n",
       "    </tr>\n",
       "    <tr>\n",
       "      <th>A3</th>\n",
       "      <td>test</td>\n",
       "      <td>Protein X</td>\n",
       "      <td>10</td>\n",
       "      <td>NaN</td>\n",
       "      <td>10</td>\n",
       "      <td>nM</td>\n",
       "      <td>60</td>\n",
       "      <td>True</td>\n",
       "    </tr>\n",
       "    <tr>\n",
       "      <th>B1</th>\n",
       "      <td>empty</td>\n",
       "      <td>NaN</td>\n",
       "      <td>NaN</td>\n",
       "      <td>NaN</td>\n",
       "      <td>NaN</td>\n",
       "      <td>NaN</td>\n",
       "      <td>NaN</td>\n",
       "      <td>True</td>\n",
       "    </tr>\n",
       "    <tr>\n",
       "      <th>B2</th>\n",
       "      <td>empty</td>\n",
       "      <td>NaN</td>\n",
       "      <td>NaN</td>\n",
       "      <td>NaN</td>\n",
       "      <td>NaN</td>\n",
       "      <td>NaN</td>\n",
       "      <td>NaN</td>\n",
       "      <td>True</td>\n",
       "    </tr>\n",
       "    <tr>\n",
       "      <th>B3</th>\n",
       "      <td>empty</td>\n",
       "      <td>NaN</td>\n",
       "      <td>NaN</td>\n",
       "      <td>NaN</td>\n",
       "      <td>NaN</td>\n",
       "      <td>NaN</td>\n",
       "      <td>NaN</td>\n",
       "      <td>True</td>\n",
       "    </tr>\n",
       "  </tbody>\n",
       "</table>\n",
       "</div>"
      ],
      "text/plain": [
       "     Type Protein Name Protein Concentration Reagent Name  \\\n",
       "A1   test    Protein X                    10          NaN   \n",
       "A2   test    Protein X                    10          NaN   \n",
       "A3   test    Protein X                    10          NaN   \n",
       "B1  empty          NaN                   NaN          NaN   \n",
       "B2  empty          NaN                   NaN          NaN   \n",
       "B3  empty          NaN                   NaN          NaN   \n",
       "\n",
       "   Reagent Concentration Concentration Units Time  Valid  \n",
       "A1                    10                  nM    0   True  \n",
       "A2                    10                  nM   30   True  \n",
       "A3                    10                  nM   60   True  \n",
       "B1                   NaN                 NaN  NaN   True  \n",
       "B2                   NaN                 NaN  NaN   True  \n",
       "B3                   NaN                 NaN  NaN   True  "
      ]
     },
     "execution_count": 3,
     "metadata": {},
     "output_type": "execute_result"
    }
   ],
   "source": [
    "platemap = pm.plate_map('long map example.csv', size = size, valid = True, header_names = header_names)"
   ]
  },
  {
   "cell_type": "code",
   "execution_count": null,
   "metadata": {},
   "outputs": [],
   "source": [
    "pm.visualise"
   ]
  }
 ],
 "metadata": {
  "kernelspec": {
   "display_name": "Python 3",
   "language": "python",
   "name": "python3"
  },
  "language_info": {
   "codemirror_mode": {
    "name": "ipython",
    "version": 3
   },
   "file_extension": ".py",
   "mimetype": "text/x-python",
   "name": "python",
   "nbconvert_exporter": "python",
   "pygments_lexer": "ipython3",
   "version": "3.8.5"
  }
 },
 "nbformat": 4,
 "nbformat_minor": 4
}
