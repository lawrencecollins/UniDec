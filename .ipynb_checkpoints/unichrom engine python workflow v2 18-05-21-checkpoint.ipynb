{
 "cells": [
  {
   "cell_type": "code",
   "execution_count": 64,
   "metadata": {},
   "outputs": [],
   "source": [
    "import matplotlib.pyplot as plt\n",
    "import pandas as pd\n",
    "import plate_map as pm\n",
    "from unidec_modules.ChromEng2 import *\n",
    "from unidec_modules import unidectools as ud\n",
    "from DataStructure import *\n",
    "from dataclasses import dataclass"
   ]
  },
  {
   "cell_type": "code",
   "execution_count": 2,
   "metadata": {},
   "outputs": [
    {
     "name": "stdout",
     "output_type": "stream",
     "text": [
      "\n",
      "UniDec Engine v.4.4.0\n",
      "\n",
      "UniDec Path: C:\\Users\\cm19ljc\\Documents\\GitHub\\UniDec\\unidec_bin\\UniDec.exe\n",
      "\n",
      "UniDec Engine v.4.4.0\n",
      "\n",
      "UniDec Path: C:\\Users\\cm19ljc\\Documents\\GitHub\\UniDec\\unidec_bin\\UniDec.exe\n"
     ]
    }
   ],
   "source": [
    "path = \"C:\\\\Users\\\\cm19ljc\\\\Documents\\\\GitHub\\\\UniDec\\\\mzML\\\\mzML.mzML\"\n",
    "eng = ChromEngine()"
   ]
  },
  {
   "cell_type": "code",
   "execution_count": 3,
   "metadata": {},
   "outputs": [
    {
     "name": "stdout",
     "output_type": "stream",
     "text": [
      "Opening HDF5 File: C:\\Users\\cm19ljc\\Documents\\GitHub\\UniDec\\mzML\\mzML.hdf5\n",
      "Reading mzML: C:\\Users\\cm19ljc\\Documents\\GitHub\\UniDec\\mzML\\mzML.mzML\n",
      "[Warning] Not index found and build_index_from_scratch is False\n",
      "Converted to gzip file to improve speed: C:\\Users\\cm19ljc\\Documents\\GitHub\\UniDec\\mzML\\mzML.mzML.gz\n",
      "Error getting TIC in mzML; trying to make it...\n",
      "Imported Data. Constructing TIC\n",
      "Done\n"
     ]
    },
    {
     "data": {
      "text/plain": [
       "True"
      ]
     },
     "execution_count": 3,
     "metadata": {},
     "output_type": "execute_result"
    }
   ],
   "source": [
    "eng.load_mzml(path)"
   ]
  },
  {
   "cell_type": "code",
   "execution_count": 4,
   "metadata": {},
   "outputs": [
    {
     "name": "stdout",
     "output_type": "stream",
     "text": [
      "1070 2\n",
      "Noise Level: 0.03357343719702872 Window: 0.05\n",
      "Bad Peak [0.419567   0.30422294] 0.23768299999999998 [0.419567, 0.65725]\n",
      "Bad Peak [0.602767   0.24142904] 0.24183299999999996 [0.419567, 0.6614]\n",
      "0.702967 0.14128400000000008\n",
      "0.790233 0.16205000000000003\n",
      "1.0312 0.13711000000000007\n",
      "1.95747 0.1411800000000003\n",
      "2.88835 0.13712999999999997\n",
      "Bad Peak [3.76958    0.03455761] 0.8769500000000003 [3.7197, 4.59665]\n",
      "Bad Peak [4.23498    0.03712807] 0.6733000000000002 [3.91918, 4.59248]\n",
      "Bad Peak [5.02062    0.03889817] 0.26602000000000015 [4.77123, 5.03725]\n"
     ]
    },
    {
     "data": {
      "text/plain": [
       "([array([0.702967  , 0.13838679]),\n",
       "  array([0.790233  , 0.09750636]),\n",
       "  array([1.0312    , 0.74873995]),\n",
       "  array([1.95747   , 0.88543616]),\n",
       "  array([2.88835, 1.     ])],\n",
       " [[0.686333, 0.827617],\n",
       "  [0.682183, 0.844233],\n",
       "  [1.00212, 1.13923],\n",
       "  [1.9284, 2.06958],\n",
       "  [2.85927, 2.9964]])"
      ]
     },
     "execution_count": 4,
     "metadata": {},
     "output_type": "execute_result"
    }
   ],
   "source": [
    "eng.config.chrom_peak_width = 0.05\n",
    "eng.get_chrom_peaks()"
   ]
  },
  {
   "cell_type": "code",
   "execution_count": 5,
   "metadata": {},
   "outputs": [
    {
     "data": {
      "text/plain": [
       "[[1.00212, 1.13923], [1.9284, 2.06958], [2.85927, 2.9964]]"
      ]
     },
     "execution_count": 5,
     "metadata": {},
     "output_type": "execute_result"
    }
   ],
   "source": [
    "TIC_min = 1\n",
    "tranges = eng.chrompeaks_tranges\n",
    "eng.chrompeaks_tranges = [t for t in tranges if all(i > TIC_min for i in t)]\n",
    "eng.chrompeaks_tranges"
   ]
  },
  {
   "cell_type": "code",
   "execution_count": 6,
   "metadata": {},
   "outputs": [
    {
     "name": "stdout",
     "output_type": "stream",
     "text": [
      "Getting scans: [98, 131]\n",
      "Length merge axis: 28915\n",
      "Getting scans: [321, 355]\n",
      "Length merge axis: 30293\n",
      "Getting scans: [545, 578]\n",
      "Length merge axis: 31336\n"
     ]
    }
   ],
   "source": [
    "eng.config.sw_scan_offset = 0 # ??? defaults to 10\n",
    "\n",
    "eng.add_chrom_peaks2() # stores data from selected peaks ready for metaunidec processing"
   ]
  },
  {
   "cell_type": "code",
   "execution_count": 7,
   "metadata": {},
   "outputs": [],
   "source": [
    "eng.config.subtype = 2 # background subtraction - subtract curved\n",
    "eng.config.subbuff = 100 # background subtraction amount(subtract curved) 0 = 0ff, 100 = good amount when on\n",
    "eng.config.datanorm = 0 # turn off data normalisation\n",
    "\n",
    "# -- Deconvolution\n",
    "eng.config.numit = 100 # number of iterations\n",
    "\n",
    "# mass range (default = 5000.0 to 500000.0 Da)\n",
    "eng.config.massub = 15000 # upper \n",
    "eng.config.masslb = 11000 # lower\n",
    "\n",
    "eng.config.massbins = 0.1 # sample mass every 0.1 Da\n",
    "\n",
    "# FWHM \n",
    "# eng.get_auto_peak_width()\n",
    "eng.config.mzsig = 0 \n",
    "\n",
    "# charge range\n",
    "eng.config.startz = 1\n",
    "eng.config.endz = 30\n",
    "\n",
    "# smoothing \n",
    "eng.config.zzsig = 1 # charge smooth width (smooth charge state distributions)\n",
    "eng.config.psig = 1 # smooth nearby points (point smooth width, some = 1)\n",
    "eng.config.beta = 0 # suppress artifacts (beta, some = 50)\n",
    "\n",
    "eng.config.psfun = 0 # Peak shape function (gaussian, lorentzian, split G/L)\n",
    "\n",
    "# -- Peak Selection and plotting\n",
    "eng.config.peaknorm = 0 # Normalise peaks (0 = off)\n",
    "eng.config.datanorm = 0\n",
    "eng.config.peakwindow = 10 # peak window / Da\n",
    "eng.config.exnorm = 0 # extract normalisation\n",
    "eng.config.peakthresh = 0.05\n",
    "# eng.config.nativeub = 10\n",
    "# eng.config.nativelb = -10"
   ]
  },
  {
   "cell_type": "code",
   "execution_count": 8,
   "metadata": {},
   "outputs": [],
   "source": [
    "eng.data.export_hdf5()"
   ]
  },
  {
   "cell_type": "code",
   "execution_count": 9,
   "metadata": {},
   "outputs": [
    {
     "name": "stdout",
     "output_type": "stream",
     "text": [
      "Execution Time: 0.03922559999999997\n",
      "Execution Time: 1.4850182000000007\n"
     ]
    }
   ],
   "source": [
    "eng.process_data()\n",
    "eng.run_unidec()"
   ]
  },
  {
   "cell_type": "code",
   "execution_count": 10,
   "metadata": {},
   "outputs": [
    {
     "name": "stdout",
     "output_type": "stream",
     "text": [
      "{'Variable 1': 0, 'Variable 2': 0, 'beta': array([0.], dtype=float32), 'error': array([1.5117859e+10], dtype=float32), 'iterations': array([99]), 'length_mass': array([40000]), 'length_mz': array([28915]), 'mzsig': array([0.], dtype=float32), 'name': '1.00212', 'psig': array([1.], dtype=float32), 'rsquared': array([0.99012554], dtype=float32), 'scanend': 131, 'scanmid': 114.5, 'scanstart': 98, 'time': array([0.461], dtype=float32), 'timeend': 1.13923, 'timemid': 1.070675, 'timestart': 1.00212, 'uniscore': array([0.91778815], dtype=float32), 'zsig': array([1.], dtype=float32)}\n",
      "~\n"
     ]
    },
    {
     "data": {
      "image/png": "[encoded data removed]",
      "text/plain": [
       "<Figure size 432x288 with 2 Axes>"
      ]
     },
     "metadata": {
      "needs_background": "light"
     },
     "output_type": "display_data"
    },
    {
     "name": "stdout",
     "output_type": "stream",
     "text": [
      "{'Variable 1': 0, 'Variable 2': 0, 'beta': array([0.], dtype=float32), 'error': array([2.295656e+10], dtype=float32), 'iterations': array([99]), 'length_mass': array([39990]), 'length_mz': array([30293]), 'mzsig': array([0.], dtype=float32), 'name': '1.9284', 'psig': array([1.], dtype=float32), 'rsquared': array([0.99028623], dtype=float32), 'scanend': 355, 'scanmid': 338.0, 'scanstart': 321, 'time': array([0.481], dtype=float32), 'timeend': 2.06958, 'timemid': 1.99899, 'timestart': 1.9284, 'uniscore': array([0.9273079], dtype=float32), 'zsig': array([1.], dtype=float32)}\n",
      "~\n"
     ]
    },
    {
     "data": {
      "image/png": "[encoded data removed]",
      "text/plain": [
       "<Figure size 432x288 with 2 Axes>"
      ]
     },
     "metadata": {
      "needs_background": "light"
     },
     "output_type": "display_data"
    },
    {
     "name": "stdout",
     "output_type": "stream",
     "text": [
      "{'Variable 1': 0, 'Variable 2': 0, 'beta': array([0.], dtype=float32), 'error': array([2.029854e+10], dtype=float32), 'iterations': array([99]), 'length_mass': array([40000]), 'length_mz': array([31336]), 'mzsig': array([0.], dtype=float32), 'name': '2.85927', 'psig': array([1.], dtype=float32), 'rsquared': array([0.9938575], dtype=float32), 'scanend': 578, 'scanmid': 561.5, 'scanstart': 545, 'time': array([0.495], dtype=float32), 'timeend': 2.9964, 'timemid': 2.927835, 'timestart': 2.85927, 'uniscore': array([0.938569], dtype=float32), 'zsig': array([1.], dtype=float32)}\n",
      "~\n"
     ]
    },
    {
     "data": {
      "image/png": "[encoded data removed]",
      "text/plain": [
       "<Figure size 432x288 with 2 Axes>"
      ]
     },
     "metadata": {
      "needs_background": "light"
     },
     "output_type": "display_data"
    }
   ],
   "source": [
    "for s in eng.data.spectra: \n",
    "    fig, (ax1, ax2) = plt.subplots(1, 2)\n",
    "    raw = s.rawdata\n",
    "    massd = s.massdat\n",
    "    ax1.plot(raw[:, 0], raw[:, 1])\n",
    "    ax2.plot(massd[:, 0], massd[:, 1])\n",
    "    print(s.attrs)\n",
    "    \n",
    "    print(\"~\")\n",
    "    plt.show()"
   ]
  },
  {
   "cell_type": "code",
   "execution_count": 11,
   "metadata": {},
   "outputs": [
    {
     "name": "stdout",
     "output_type": "stream",
     "text": [
      "Execution Time: 0.07502629999999932\n",
      "Peak info saved to: C:\\Users\\cm19ljc\\Documents\\GitHub\\UniDec\\mzML\\UniDec_Figures_and_Files\\mzML_extracts.txt\n"
     ]
    }
   ],
   "source": [
    "eng.pick_peaks()"
   ]
  },
  {
   "cell_type": "code",
   "execution_count": 12,
   "metadata": {},
   "outputs": [
    {
     "data": {
      "text/plain": [
       "10"
      ]
     },
     "execution_count": 12,
     "metadata": {},
     "output_type": "execute_result"
    }
   ],
   "source": [
    "# ub, lb = eng.peakwindow, eng.peakwindow\n",
    "\n",
    "# zarea = []\n",
    "# for p in eng.pks.peaks:\n",
    "#     p.integralrange = [p.mass + lb, p.mass+ub]\n",
    "#     p.integral = ud.integrate(eng)\n",
    "eng.config.peakwindow"
   ]
  },
  {
   "cell_type": "code",
   "execution_count": 13,
   "metadata": {},
   "outputs": [],
   "source": [
    "# define species \n",
    "species1 = Species(mass = 13321, name = 'protein1')\n",
    "species2 = Species(mass = 13595, name = 'protein2')\n",
    "species3 = Species(mass =111, name = 'protein1')\n",
    "reaction = Reaction('test_reaction')"
   ]
  },
  {
   "cell_type": "code",
   "execution_count": 14,
   "metadata": {},
   "outputs": [
    {
     "data": {
      "text/plain": [
       "[Species(mass=13321, name='protein1', area=None, intensity=None, timepoint=None),\n",
       " Species(mass=111, name='protein1', area=None, intensity=None, timepoint=None)]"
      ]
     },
     "execution_count": 14,
     "metadata": {},
     "output_type": "execute_result"
    }
   ],
   "source": [
    "rxn = [species1, species2, species3]\n",
    "fltr = [i for i in rxn if i.name == 'protein1']\n",
    "fltr"
   ]
  },
  {
   "cell_type": "code",
   "execution_count": 15,
   "metadata": {},
   "outputs": [
    {
     "data": {
      "text/html": [
       "<div>\n",
       "<style scoped>\n",
       "    .dataframe tbody tr th:only-of-type {\n",
       "        vertical-align: middle;\n",
       "    }\n",
       "\n",
       "    .dataframe tbody tr th {\n",
       "        vertical-align: top;\n",
       "    }\n",
       "\n",
       "    .dataframe thead th {\n",
       "        text-align: right;\n",
       "    }\n",
       "</style>\n",
       "<table border=\"1\" class=\"dataframe\">\n",
       "  <thead>\n",
       "    <tr style=\"text-align: right;\">\n",
       "      <th></th>\n",
       "      <th>mass</th>\n",
       "      <th>name</th>\n",
       "      <th>area</th>\n",
       "      <th>intensity</th>\n",
       "      <th>timepoint</th>\n",
       "    </tr>\n",
       "  </thead>\n",
       "  <tbody>\n",
       "    <tr>\n",
       "      <th>0</th>\n",
       "      <td>13321</td>\n",
       "      <td>protein1</td>\n",
       "      <td>None</td>\n",
       "      <td>None</td>\n",
       "      <td>None</td>\n",
       "    </tr>\n",
       "    <tr>\n",
       "      <th>1</th>\n",
       "      <td>13595</td>\n",
       "      <td>protein2</td>\n",
       "      <td>None</td>\n",
       "      <td>None</td>\n",
       "      <td>None</td>\n",
       "    </tr>\n",
       "    <tr>\n",
       "      <th>2</th>\n",
       "      <td>111</td>\n",
       "      <td>protein1</td>\n",
       "      <td>None</td>\n",
       "      <td>None</td>\n",
       "      <td>None</td>\n",
       "    </tr>\n",
       "  </tbody>\n",
       "</table>\n",
       "</div>"
      ],
      "text/plain": [
       "    mass      name  area intensity timepoint\n",
       "0  13321  protein1  None      None      None\n",
       "1  13595  protein2  None      None      None\n",
       "2    111  protein1  None      None      None"
      ]
     },
     "execution_count": 15,
     "metadata": {},
     "output_type": "execute_result"
    }
   ],
   "source": [
    "pd.DataFrame(rxn)"
   ]
  },
  {
   "cell_type": "code",
   "execution_count": 16,
   "metadata": {},
   "outputs": [
    {
     "data": {
      "image/png": "[encoded data removed]",
      "text/plain": [
       "<Figure size 600x400 with 1 Axes>"
      ]
     },
     "metadata": {
      "needs_background": "light"
     },
     "output_type": "display_data"
    },
    {
     "data": {
      "image/png": "[encoded data removed]",
      "text/plain": [
       "<Figure size 600x400 with 1 Axes>"
      ]
     },
     "metadata": {
      "needs_background": "light"
     },
     "output_type": "display_data"
    },
    {
     "data": {
      "image/png": "[encoded data removed]",
      "text/plain": [
       "<Figure size 600x400 with 1 Axes>"
      ]
     },
     "metadata": {
      "needs_background": "light"
     },
     "output_type": "display_data"
    }
   ],
   "source": [
    "spectra_pks = {}\n",
    "\n",
    "spectra_integrals = {}\n",
    "lb, ub = -eng.config.peakwindow, eng.config.peakwindow\n",
    "\n",
    "for s in eng.data.spectra:\n",
    "    \n",
    "    peak_integrals = []\n",
    "    \n",
    "    plt.figure(dpi=100)\n",
    "    plt.plot(s.massdat[:, 0], s.massdat[:, 1])\n",
    "    \n",
    "#     print(s.name)\n",
    "    \n",
    "    \n",
    "    for p in s.pks.peaks:\n",
    "        \n",
    "        p.integralrange = [p.mass+lb, p.mass+ub]\n",
    "        \n",
    "        ints = (ud.integrate(s.massdat, p.integralrange[0], p.integralrange[1]))\n",
    "        peak_integrals.append((ints))\n",
    "        \n",
    "        plt.scatter(p.mass, p.height, marker = 'x', color = p.color)\n",
    "        plt.xlim(12500, 14000)\n",
    "        plt.fill_between(ints[1][:, 0], ints[1][:, 1], color = p.color)\n",
    "#         print(p.mass)\n",
    "        \n",
    "        \n",
    "    spectra_integrals[s.name] = peak_integrals\n",
    "    \n",
    "    \n",
    "    \n",
    "\n",
    "    plt.show()\n"
   ]
  },
  {
   "cell_type": "code",
   "execution_count": 35,
   "metadata": {},
   "outputs": [
    {
     "data": {
      "text/html": [
       "<div>\n",
       "<style scoped>\n",
       "    .dataframe tbody tr th:only-of-type {\n",
       "        vertical-align: middle;\n",
       "    }\n",
       "\n",
       "    .dataframe tbody tr th {\n",
       "        vertical-align: top;\n",
       "    }\n",
       "\n",
       "    .dataframe thead th {\n",
       "        text-align: right;\n",
       "    }\n",
       "</style>\n",
       "<table border=\"1\" class=\"dataframe\">\n",
       "  <thead>\n",
       "    <tr style=\"text-align: right;\">\n",
       "      <th></th>\n",
       "      <th>Type</th>\n",
       "      <th>Reaction Name</th>\n",
       "      <th>Time</th>\n",
       "    </tr>\n",
       "    <tr>\n",
       "      <th>Well ID</th>\n",
       "      <th></th>\n",
       "      <th></th>\n",
       "      <th></th>\n",
       "    </tr>\n",
       "  </thead>\n",
       "  <tbody>\n",
       "    <tr>\n",
       "      <th>A1</th>\n",
       "      <td>Test</td>\n",
       "      <td>17-05-21-CTB1</td>\n",
       "      <td>0</td>\n",
       "    </tr>\n",
       "    <tr>\n",
       "      <th>A2</th>\n",
       "      <td>Test</td>\n",
       "      <td>17-05-21-CTB1</td>\n",
       "      <td>30</td>\n",
       "    </tr>\n",
       "    <tr>\n",
       "      <th>A3</th>\n",
       "      <td>Test</td>\n",
       "      <td>17-05-21-CTB1</td>\n",
       "      <td>60</td>\n",
       "    </tr>\n",
       "    <tr>\n",
       "      <th>B1</th>\n",
       "      <td>Test</td>\n",
       "      <td>17-05-21-CTB2</td>\n",
       "      <td>0</td>\n",
       "    </tr>\n",
       "    <tr>\n",
       "      <th>B2</th>\n",
       "      <td>Test</td>\n",
       "      <td>17-05-21-CTB2</td>\n",
       "      <td>30</td>\n",
       "    </tr>\n",
       "    <tr>\n",
       "      <th>B3</th>\n",
       "      <td>Test</td>\n",
       "      <td>17-05-21-CTB2</td>\n",
       "      <td>60</td>\n",
       "    </tr>\n",
       "  </tbody>\n",
       "</table>\n",
       "</div>"
      ],
      "text/plain": [
       "         Type  Reaction Name Time\n",
       "Well ID                          \n",
       "A1       Test  17-05-21-CTB1    0\n",
       "A2       Test  17-05-21-CTB1   30\n",
       "A3       Test  17-05-21-CTB1   60\n",
       "B1       Test  17-05-21-CTB2    0\n",
       "B2       Test  17-05-21-CTB2   30\n",
       "B3       Test  17-05-21-CTB2   60"
      ]
     },
     "execution_count": 35,
     "metadata": {},
     "output_type": "execute_result"
    }
   ],
   "source": [
    "rheaders = {\"Reaction Name\":str, \"Species\":str, \"Concentration\":float,\n",
    "           \"Units\":str, \"Mass\":float, \"Reagent Type\":str, \"Sequence\":str}\n",
    "\n",
    "pheaders = {\"Well ID\":{'dtype':str, 'long':True, 'short_row': False, 'short_col':False}, \n",
    "            \"Type\":{'dtype':str, 'long':True, 'short_row': True, 'short_col':True}, \n",
    "            \"Reaction Name\":{'dtype':str, 'long':True, 'short_row': True, 'short_col':True}, \n",
    "            \"Time\":{'dtype':str, 'long':True, 'short_row': True, 'short_col':True}}\n",
    "\n",
    "map_name = \"plate map uni chrom update.xlsx\"\n",
    "\n",
    "\n",
    "\n",
    "rmap = pd.read_excel(map_name, \n",
    "                     dtype = rheaders, index_col = \"Species\",\n",
    "                     sheet_name = \"reaction map\")\n",
    "\n",
    "pdata_types = {i[0]: i[1]['dtype'] for i in pheaders.items()} \n",
    "pmap = pd.read_excel(map_name, dtype = pdata_types, index_col = \"Well ID\", skiprows = 1)\n",
    "pmap\n"
   ]
  },
  {
   "cell_type": "code",
   "execution_count": 149,
   "metadata": {},
   "outputs": [
    {
     "data": {
      "text/html": [
       "<div>\n",
       "<style scoped>\n",
       "    .dataframe tbody tr th:only-of-type {\n",
       "        vertical-align: middle;\n",
       "    }\n",
       "\n",
       "    .dataframe tbody tr th {\n",
       "        vertical-align: top;\n",
       "    }\n",
       "\n",
       "    .dataframe thead th {\n",
       "        text-align: right;\n",
       "    }\n",
       "</style>\n",
       "<table border=\"1\" class=\"dataframe\">\n",
       "  <thead>\n",
       "    <tr style=\"text-align: right;\">\n",
       "      <th></th>\n",
       "      <th>Type</th>\n",
       "      <th>Reaction Name</th>\n",
       "      <th>Time</th>\n",
       "      <th>Valid</th>\n",
       "    </tr>\n",
       "  </thead>\n",
       "  <tbody>\n",
       "    <tr>\n",
       "      <th>A1</th>\n",
       "      <td>Test</td>\n",
       "      <td>17-05-21-CTB1</td>\n",
       "      <td>0</td>\n",
       "      <td>True</td>\n",
       "    </tr>\n",
       "    <tr>\n",
       "      <th>A2</th>\n",
       "      <td>Test</td>\n",
       "      <td>17-05-21-CTB1</td>\n",
       "      <td>30</td>\n",
       "      <td>True</td>\n",
       "    </tr>\n",
       "    <tr>\n",
       "      <th>A3</th>\n",
       "      <td>Test</td>\n",
       "      <td>17-05-21-CTB1</td>\n",
       "      <td>60</td>\n",
       "      <td>True</td>\n",
       "    </tr>\n",
       "    <tr>\n",
       "      <th>B1</th>\n",
       "      <td>Test</td>\n",
       "      <td>17-05-21-CTB2</td>\n",
       "      <td>0</td>\n",
       "      <td>True</td>\n",
       "    </tr>\n",
       "    <tr>\n",
       "      <th>B2</th>\n",
       "      <td>Test</td>\n",
       "      <td>17-05-21-CTB2</td>\n",
       "      <td>30</td>\n",
       "      <td>True</td>\n",
       "    </tr>\n",
       "    <tr>\n",
       "      <th>B3</th>\n",
       "      <td>Test</td>\n",
       "      <td>17-05-21-CTB2</td>\n",
       "      <td>60</td>\n",
       "      <td>True</td>\n",
       "    </tr>\n",
       "  </tbody>\n",
       "</table>\n",
       "</div>"
      ],
      "text/plain": [
       "    Type  Reaction Name Time  Valid\n",
       "A1  Test  17-05-21-CTB1    0   True\n",
       "A2  Test  17-05-21-CTB1   30   True\n",
       "A3  Test  17-05-21-CTB1   60   True\n",
       "B1  Test  17-05-21-CTB2    0   True\n",
       "B2  Test  17-05-21-CTB2   30   True\n",
       "B3  Test  17-05-21-CTB2   60   True"
      ]
     },
     "execution_count": 149,
     "metadata": {},
     "output_type": "execute_result"
    }
   ],
   "source": [
    "pheaders2 = [x for x in pheaders.keys() if pheaders[x]['long']]\n",
    "pmapdf = pm.empty_map(size = 6, header_names = pheaders)\n",
    "pmapdf.update(pmap)\n",
    "pmapdf"
   ]
  },
  {
   "cell_type": "code",
   "execution_count": 188,
   "metadata": {},
   "outputs": [],
   "source": [
    "reactions = {key:[val] for key, val in rmap.groupby('Reaction Name')}\n",
    "wellsflt = {key: val for key, val in pmapdf.groupby('Reaction Name')} \n",
    "for k, v in wellsflt.items():\n",
    "    reactions[k].append(v)"
   ]
  },
  {
   "cell_type": "code",
   "execution_count": 187,
   "metadata": {},
   "outputs": [
    {
     "data": {
      "text/plain": [
       "{'17-05-21-CTB1': [    Type  Reaction Name Time  Valid\n",
       "  A1  Test  17-05-21-CTB1    0   True\n",
       "  A2  Test  17-05-21-CTB1   30   True\n",
       "  A3  Test  17-05-21-CTB1   60   True],\n",
       " '17-05-21-CTB2': [    Type  Reaction Name Time  Valid\n",
       "  B1  Test  17-05-21-CTB2    0   True\n",
       "  B2  Test  17-05-21-CTB2   30   True\n",
       "  B3  Test  17-05-21-CTB2   60   True]}"
      ]
     },
     "execution_count": 187,
     "metadata": {},
     "output_type": "execute_result"
    }
   ],
   "source": [
    "wellsflt"
   ]
  },
  {
   "cell_type": "code",
   "execution_count": 194,
   "metadata": {},
   "outputs": [
    {
     "data": {
      "text/plain": [
       "{'A1': {'Type': 'Test',\n",
       "  'Reaction Name': '17-05-21-CTB1',\n",
       "  'Time': '0',\n",
       "  'Valid': True}}"
      ]
     },
     "execution_count": 194,
     "metadata": {},
     "output_type": "execute_result"
    }
   ],
   "source": [
    "# separate each time point (or other variable?) in each reaction within the platemap\n",
    "platemapdict = {}\n",
    "for key, val in wellsflt.items():\n",
    "    timegroup = val.groupby('Time')\n",
    "    # where key is reaction, k is the time point and \n",
    "    # v is the dataframe row containing the metadata from the plate map\n",
    "    platemapdict[key] = {float(k):v.iloc for k, v in timegroup} \n",
    "platemapdict['17-05-21-CTB1'][0]"
   ]
  },
  {
   "cell_type": "code",
   "execution_count": 67,
   "metadata": {},
   "outputs": [],
   "source": [
    "@dataclass\n",
    "class Timepoint:\n",
    "    time:float\n",
    "    species:list = None\n",
    "    spectra:list = None\n",
    "    "
   ]
  },
  {
   "cell_type": "code",
   "execution_count": 179,
   "metadata": {},
   "outputs": [
    {
     "name": "stdout",
     "output_type": "stream",
     "text": [
      "{'0':     Type  Reaction Name Time  Valid\n",
      "A1  Test  17-05-21-CTB1    0   True, '30':     Type  Reaction Name Time  Valid\n",
      "A2  Test  17-05-21-CTB1   30   True, '60':     Type  Reaction Name Time  Valid\n",
      "A3  Test  17-05-21-CTB1   60   True}\n",
      "{'0':     Type  Reaction Name Time  Valid\n",
      "B1  Test  17-05-21-CTB2    0   True, '30':     Type  Reaction Name Time  Valid\n",
      "B2  Test  17-05-21-CTB2   30   True, '60':     Type  Reaction Name Time  Valid\n",
      "B3  Test  17-05-21-CTB2   60   True}\n"
     ]
    }
   ],
   "source": [
    "times = {}\n",
    "for k, v in reactions.items():\n",
    "    valid_filter = v[1]['Valid'] == True\n",
    "    timesgroup = v[1][valid_filter].groupby('Time')\n",
    "    times[k] = {float(key):[val, v[0]] for key, val in timesgroup}\n",
    "    \n",
    "    print({key: val for key, val in timesgroup})"
   ]
  },
  {
   "cell_type": "code",
   "execution_count": null,
   "metadata": {},
   "outputs": [],
   "source": []
  },
  {
   "cell_type": "code",
   "execution_count": null,
   "metadata": {},
   "outputs": [],
   "source": [
    "times = {}\n",
    "for k, v in reactions.items():\n",
    "    valid_filter = v[1]['Valid'] == True\n",
    "    timesgroup = v[1][valid_filter].groupby('Time')\n",
    "    \n",
    "    \n",
    "    \n",
    "    times[k] = {float(key):[val, v[0]] for key, val in timesgroup}\n",
    "    \n",
    "    print({key: val for key, val in timesgroup})"
   ]
  },
  {
   "cell_type": "code",
   "execution_count": 178,
   "metadata": {},
   "outputs": [
    {
     "data": {
      "text/plain": [
       "'30'"
      ]
     },
     "execution_count": 178,
     "metadata": {},
     "output_type": "execute_result"
    }
   ],
   "source": [
    "fff = (times['17-05-21-CTB1'][30][0])\n",
    "fff.iloc[0]['Time']"
   ]
  },
  {
   "cell_type": "code",
   "execution_count": 145,
   "metadata": {},
   "outputs": [
    {
     "data": {
      "text/plain": [
       "{'Well ID': {'dtype': str,\n",
       "  'long': True,\n",
       "  'short_row': False,\n",
       "  'short_col': False},\n",
       " 'Type': {'dtype': str, 'long': True, 'short_row': True, 'short_col': True},\n",
       " 'Reaction Name': {'dtype': str,\n",
       "  'long': True,\n",
       "  'short_row': True,\n",
       "  'short_col': True},\n",
       " 'Time': {'dtype': str, 'long': True, 'short_row': True, 'short_col': True}}"
      ]
     },
     "execution_count": 145,
     "metadata": {},
     "output_type": "execute_result"
    }
   ],
   "source": [
    "pheaders"
   ]
  }
 ],
 "metadata": {
  "kernelspec": {
   "display_name": "Python 3",
   "language": "python",
   "name": "python3"
  },
  "language_info": {
   "codemirror_mode": {
    "name": "ipython",
    "version": 3
   },
   "file_extension": ".py",
   "mimetype": "text/x-python",
   "name": "python",
   "nbconvert_exporter": "python",
   "pygments_lexer": "ipython3",
   "version": "3.8.5"
  }
 },
 "nbformat": 4,
 "nbformat_minor": 4
}
