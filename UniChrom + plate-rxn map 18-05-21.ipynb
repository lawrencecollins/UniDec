{
 "cells": [
  {
   "cell_type": "code",
   "execution_count": 1,
   "metadata": {},
   "outputs": [],
   "source": [
    "from unidec_modules.ChromEng2 import *\n",
    "import plate_map2 as pm2"
   ]
  },
  {
   "cell_type": "code",
   "execution_count": 2,
   "metadata": {},
   "outputs": [],
   "source": [
    "spectra_path = \"C:\\\\Users\\\\cm19ljc\\\\Documents\\\\GitHub\\\\UniDec\\\\mzML\\\\mzML.mzML\"\n",
    "map_path = \"unichrom plate map example.xlsx\""
   ]
  },
  {
   "cell_type": "code",
   "execution_count": 3,
   "metadata": {},
   "outputs": [
    {
     "name": "stdout",
     "output_type": "stream",
     "text": [
      "\n",
      "UniDec Engine v.4.4.0\n",
      "\n",
      "UniDec Path: C:\\Users\\cm19ljc\\Documents\\GitHub\\UniDec\\unidec_bin\\UniDec.exe\n",
      "\n",
      "UniDec Engine v.4.4.0\n",
      "\n",
      "UniDec Path: C:\\Users\\cm19ljc\\Documents\\GitHub\\UniDec\\unidec_bin\\UniDec.exe\n",
      "Opening HDF5 File: C:\\Users\\cm19ljc\\Documents\\GitHub\\UniDec\\mzML\\mzML.hdf5\n",
      "Reading mzML: C:\\Users\\cm19ljc\\Documents\\GitHub\\UniDec\\mzML\\mzML.mzML\n",
      "[Warning] Not index found and build_index_from_scratch is False\n",
      "Converted to gzip file to improve speed: C:\\Users\\cm19ljc\\Documents\\GitHub\\UniDec\\mzML\\mzML.mzML.gz\n",
      "Error getting TIC in mzML; trying to make it...\n",
      "Imported Data. Constructing TIC\n",
      "Done\n",
      "1070 2\n",
      "Noise Level: 0.03357343719702872 Window: 0.05\n",
      "Bad Peak [0.419567   0.30422294] 0.23768299999999998 [0.419567, 0.65725]\n",
      "Bad Peak [0.602767   0.24142904] 0.24183299999999996 [0.419567, 0.6614]\n",
      "0.702967 0.14128400000000008\n",
      "0.790233 0.16205000000000003\n",
      "1.0312 0.13711000000000007\n",
      "1.95747 0.1411800000000003\n",
      "2.88835 0.13712999999999997\n",
      "Bad Peak [3.76958    0.03455761] 0.8769500000000003 [3.7197, 4.59665]\n",
      "Bad Peak [4.23498    0.03712807] 0.6733000000000002 [3.91918, 4.59248]\n",
      "Bad Peak [5.02062    0.03889817] 0.26602000000000015 [4.77123, 5.03725]\n"
     ]
    },
    {
     "data": {
      "text/plain": [
       "([array([0.702967  , 0.13838679]),\n",
       "  array([0.790233  , 0.09750636]),\n",
       "  array([1.0312    , 0.74873995]),\n",
       "  array([1.95747   , 0.88543616]),\n",
       "  array([2.88835, 1.     ])],\n",
       " [[0.686333, 0.827617],\n",
       "  [0.682183, 0.844233],\n",
       "  [1.00212, 1.13923],\n",
       "  [1.9284, 2.06958],\n",
       "  [2.85927, 2.9964]])"
      ]
     },
     "execution_count": 3,
     "metadata": {},
     "output_type": "execute_result"
    }
   ],
   "source": [
    "eng = ChromEngine()\n",
    "eng.load_mzml(spectra_path)\n",
    "eng.config.chrom_peak_width = 0.05\n",
    "eng.get_chrom_peaks() # INSERT PLOT HERE"
   ]
  },
  {
   "cell_type": "code",
   "execution_count": 4,
   "metadata": {},
   "outputs": [
    {
     "data": {
      "text/plain": [
       "[[1.00212, 1.13923], [1.9284, 2.06958], [2.85927, 2.9964]]"
      ]
     },
     "execution_count": 4,
     "metadata": {},
     "output_type": "execute_result"
    }
   ],
   "source": [
    "TIC_min = 1 # ADD TO PACKAGE\n",
    "tranges = eng.chrompeaks_tranges\n",
    "eng.chrompeaks_tranges = [t for t in tranges if all(i > TIC_min for i in t)] # INSERT PLOT HERE\n",
    "eng.chrompeaks_tranges"
   ]
  },
  {
   "cell_type": "code",
   "execution_count": 5,
   "metadata": {},
   "outputs": [
    {
     "name": "stdout",
     "output_type": "stream",
     "text": [
      "Getting scans: [98, 131]\n",
      "Length merge axis: 28915\n",
      "Getting scans: [321, 355]\n",
      "Length merge axis: 30293\n",
      "Getting scans: [545, 578]\n",
      "Length merge axis: 31336\n"
     ]
    }
   ],
   "source": [
    "# eng.config.sw_scan_offset = 0 # ??? defaults to 10\n",
    "\n",
    "eng.add_chrom_peaks2() # stores data from selected peaks ready for metaunidec processing"
   ]
  },
  {
   "cell_type": "code",
   "execution_count": 6,
   "metadata": {},
   "outputs": [],
   "source": [
    "eng.config.subtype = 2 # background subtraction - subtract curved\n",
    "eng.config.subbuff = 100 # background subtraction amount(subtract curved) 0 = 0ff, 100 = good amount when on\n",
    "eng.config.datanorm = 0 # turn off data normalisation\n",
    "\n",
    "# -- Deconvolution\n",
    "eng.config.numit = 100 # number of iterations\n",
    "\n",
    "# mass range (default = 5000.0 to 500000.0 Da)\n",
    "eng.config.massub = 15000 # upper \n",
    "eng.config.masslb = 11000 # lower\n",
    "\n",
    "eng.config.massbins = 0.1 # sample mass every 0.1 Da\n",
    "\n",
    "# FWHM \n",
    "# eng.get_auto_peak_width()\n",
    "eng.config.mzsig = 0 \n",
    "\n",
    "# charge range\n",
    "eng.config.startz = 1\n",
    "eng.config.endz = 30\n",
    "\n",
    "# smoothing \n",
    "eng.config.zzsig = 1 # charge smooth width (smooth charge state distributions)\n",
    "eng.config.psig = 1 # smooth nearby points (point smooth width, some = 1)\n",
    "eng.config.beta = 0 # suppress artifacts (beta, some = 50)\n",
    "\n",
    "eng.config.psfun = 0 # Peak shape function (gaussian, lorentzian, split G/L)\n",
    "\n",
    "# -- Peak Selection and plotting\n",
    "eng.config.peaknorm = 0 # Normalise peaks (0 = off)\n",
    "eng.config.datanorm = 0\n",
    "eng.config.peakwindow = 10 # peak window / Da\n",
    "eng.config.exnorm = 0 # extract normalisation\n",
    "eng.config.peakthresh = 0.05\n",
    "# eng.config.nativeub = 10\n",
    "# eng.config.nativelb = -10\n",
    "eng.data.export_hdf5()"
   ]
  },
  {
   "cell_type": "code",
   "execution_count": 7,
   "metadata": {},
   "outputs": [
    {
     "name": "stdout",
     "output_type": "stream",
     "text": [
      "Execution Time: 0.08299589999999846\n",
      "Execution Time: 2.3685760999999985\n",
      "Execution Time: 0.15343830000000125\n",
      "Peak info saved to: C:\\Users\\cm19ljc\\Documents\\GitHub\\UniDec\\mzML\\UniDec_Figures_and_Files\\mzML_extracts.txt\n"
     ]
    }
   ],
   "source": [
    "eng.process_data()\n",
    "eng.run_unidec()\n",
    "eng.pick_peaks() "
   ]
  },
  {
   "cell_type": "code",
   "execution_count": 8,
   "metadata": {},
   "outputs": [
    {
     "data": {
      "text/plain": [
       "{'17-05-21-CTB1': {'CTB': {'Reaction': '17-05-21-CTB1',\n",
       "   'Species': 'CTB',\n",
       "   'Concentration': 10.0,\n",
       "   'Units': 'uM',\n",
       "   'Mass': 13321.0,\n",
       "   'Reagent_Type': 'SM',\n",
       "   'Sequence': nan,\n",
       "   'Time': A1     0\n",
       "   A2    30\n",
       "   A3    60\n",
       "   Name: Time, dtype: object,\n",
       "   'spectra': {'A1': '0', 'A2': '30', 'A3': '60'},\n",
       "   'peaks': {'A1': '0', 'A2': '30', 'A3': '60'}},\n",
       "  'CTB-GV': {'Reaction': '17-05-21-CTB1',\n",
       "   'Species': 'CTB-GV',\n",
       "   'Concentration': nan,\n",
       "   'Units': 'uM',\n",
       "   'Mass': 13627.0,\n",
       "   'Reagent_Type': 'P',\n",
       "   'Sequence': nan,\n",
       "   'Time': A1     0\n",
       "   A2    30\n",
       "   A3    60\n",
       "   Name: Time, dtype: object,\n",
       "   'spectra': {'A1': '0', 'A2': '30', 'A3': '60'},\n",
       "   'peaks': {'A1': '0', 'A2': '30', 'A3': '60'}},\n",
       "  'GVYQSRL': {'Reaction': '17-05-21-CTB1',\n",
       "   'Species': 'GVYQSRL',\n",
       "   'Concentration': 10.0,\n",
       "   'Units': 'uM',\n",
       "   'Mass': 13184.0,\n",
       "   'Reagent_Type': 'SM',\n",
       "   'Sequence': 'GVYQSRL',\n",
       "   'Time': A1     0\n",
       "   A2    30\n",
       "   A3    60\n",
       "   Name: Time, dtype: object,\n",
       "   'spectra': {'A1': '0', 'A2': '30', 'A3': '60'},\n",
       "   'peaks': {'A1': '0', 'A2': '30', 'A3': '60'}},\n",
       "  'HC7D': {'Reaction': '17-05-21-CTB1',\n",
       "   'Species': 'HC7D',\n",
       "   'Concentration': 10.0,\n",
       "   'Units': 'uM',\n",
       "   'Mass': 13595.0,\n",
       "   'Reagent_Type': 'C',\n",
       "   'Sequence': nan,\n",
       "   'Time': A1     0\n",
       "   A2    30\n",
       "   A3    60\n",
       "   Name: Time, dtype: object,\n",
       "   'spectra': {'A1': '0', 'A2': '30', 'A3': '60'},\n",
       "   'peaks': {'A1': '0', 'A2': '30', 'A3': '60'}}}}"
      ]
     },
     "execution_count": 8,
     "metadata": {},
     "output_type": "execute_result"
    }
   ],
   "source": [
    "# PLATE MAP PROCESSING STARTS HERE\n",
    "rmap, pmap = pm2.read_in_long(map_path)\n",
    "data_dict, length = pm2.process_data(rmap, pmap)\n",
    "data_dict "
   ]
  },
  {
   "cell_type": "code",
   "execution_count": 9,
   "metadata": {},
   "outputs": [
    {
     "data": {
      "image/png": "[encoded data removed]",
      "text/plain": [
       "<Figure size 432x288 with 1 Axes>"
      ]
     },
     "metadata": {
      "needs_background": "light"
     },
     "output_type": "display_data"
    },
    {
     "data": {
      "image/png": "[encoded data removed]",
      "text/plain": [
       "<Figure size 432x288 with 1 Axes>"
      ]
     },
     "metadata": {
      "needs_background": "light"
     },
     "output_type": "display_data"
    },
    {
     "data": {
      "image/png": "[encoded data removed]",
      "text/plain": [
       "<Figure size 432x288 with 1 Axes>"
      ]
     },
     "metadata": {
      "needs_background": "light"
     },
     "output_type": "display_data"
    }
   ],
   "source": [
    "eng = pm2.integrate_all(eng) # ADD TO UNICHROM\n",
    "pm2.plot_all(eng, xlim = [13000, 14000])"
   ]
  },
  {
   "cell_type": "code",
   "execution_count": 10,
   "metadata": {},
   "outputs": [],
   "source": [
    "eng = pm2.update_vars(eng, pmap, skip_empty = True)"
   ]
  },
  {
   "cell_type": "code",
   "execution_count": 11,
   "metadata": {},
   "outputs": [
    {
     "data": {
      "text/plain": [
       "{'17-05-21-CTB1': {'CTB': {'Reaction': '17-05-21-CTB1',\n",
       "   'Species': 'CTB',\n",
       "   'Concentration': 10.0,\n",
       "   'Units': 'uM',\n",
       "   'Mass': 13321.0,\n",
       "   'Reagent_Type': 'SM',\n",
       "   'Sequence': nan,\n",
       "   'Time': A1     0\n",
       "   A2    30\n",
       "   A3    60\n",
       "   Name: Time, dtype: object,\n",
       "   'spectra': {'A1': '0', 'A2': '30', 'A3': '60'},\n",
       "   'peaks': {'A1': '0', 'A2': '30', 'A3': '60'}},\n",
       "  'CTB-GV': {'Reaction': '17-05-21-CTB1',\n",
       "   'Species': 'CTB-GV',\n",
       "   'Concentration': nan,\n",
       "   'Units': 'uM',\n",
       "   'Mass': 13627.0,\n",
       "   'Reagent_Type': 'P',\n",
       "   'Sequence': nan,\n",
       "   'Time': A1     0\n",
       "   A2    30\n",
       "   A3    60\n",
       "   Name: Time, dtype: object,\n",
       "   'spectra': {'A1': '0', 'A2': '30', 'A3': '60'},\n",
       "   'peaks': {'A1': '0', 'A2': '30', 'A3': '60'}},\n",
       "  'GVYQSRL': {'Reaction': '17-05-21-CTB1',\n",
       "   'Species': 'GVYQSRL',\n",
       "   'Concentration': 10.0,\n",
       "   'Units': 'uM',\n",
       "   'Mass': 13184.0,\n",
       "   'Reagent_Type': 'SM',\n",
       "   'Sequence': 'GVYQSRL',\n",
       "   'Time': A1     0\n",
       "   A2    30\n",
       "   A3    60\n",
       "   Name: Time, dtype: object,\n",
       "   'spectra': {'A1': '0', 'A2': '30', 'A3': '60'},\n",
       "   'peaks': {'A1': '0', 'A2': '30', 'A3': '60'}},\n",
       "  'HC7D': {'Reaction': '17-05-21-CTB1',\n",
       "   'Species': 'HC7D',\n",
       "   'Concentration': 10.0,\n",
       "   'Units': 'uM',\n",
       "   'Mass': 13595.0,\n",
       "   'Reagent_Type': 'C',\n",
       "   'Sequence': nan,\n",
       "   'Time': A1     0\n",
       "   A2    30\n",
       "   A3    60\n",
       "   Name: Time, dtype: object,\n",
       "   'spectra': {'A1': '0', 'A2': '30', 'A3': '60'},\n",
       "   'peaks': {'A1': '0', 'A2': '30', 'A3': '60'}}}}"
      ]
     },
     "execution_count": 11,
     "metadata": {},
     "output_type": "execute_result"
    }
   ],
   "source": [
    "data_dict"
   ]
  },
  {
   "cell_type": "code",
   "execution_count": 12,
   "metadata": {},
   "outputs": [],
   "source": [
    "# # label spectra with well ID (or time?)\n",
    "# spectra_dict = {s.var1:s for s in eng.data.spectra}\n",
    "# spectra_dict"
   ]
  },
  {
   "cell_type": "code",
   "execution_count": 13,
   "metadata": {},
   "outputs": [
    {
     "data": {
      "text/plain": [
       "{'17-05-21-CTB1': {'CTB': {'Reaction': '17-05-21-CTB1',\n",
       "   'Species': 'CTB',\n",
       "   'Concentration': 10.0,\n",
       "   'Units': 'uM',\n",
       "   'Mass': 13321.0,\n",
       "   'Reagent_Type': 'SM',\n",
       "   'Sequence': nan,\n",
       "   'Time': A1     0\n",
       "   A2    30\n",
       "   A3    60\n",
       "   Name: Time, dtype: object,\n",
       "   'spectra': {'A1': <metaunidec.mudstruct.Spectrum at 0x20153ae71f0>,\n",
       "    'A2': <metaunidec.mudstruct.Spectrum at 0x201026069d0>,\n",
       "    'A3': <metaunidec.mudstruct.Spectrum at 0x20102606fa0>},\n",
       "   'peaks': {'A1': '0', 'A2': '30', 'A3': '60'}},\n",
       "  'CTB-GV': {'Reaction': '17-05-21-CTB1',\n",
       "   'Species': 'CTB-GV',\n",
       "   'Concentration': nan,\n",
       "   'Units': 'uM',\n",
       "   'Mass': 13627.0,\n",
       "   'Reagent_Type': 'P',\n",
       "   'Sequence': nan,\n",
       "   'Time': A1     0\n",
       "   A2    30\n",
       "   A3    60\n",
       "   Name: Time, dtype: object,\n",
       "   'spectra': {'A1': <metaunidec.mudstruct.Spectrum at 0x20153ae71f0>,\n",
       "    'A2': <metaunidec.mudstruct.Spectrum at 0x201026069d0>,\n",
       "    'A3': <metaunidec.mudstruct.Spectrum at 0x20102606fa0>},\n",
       "   'peaks': {'A1': '0', 'A2': '30', 'A3': '60'}},\n",
       "  'GVYQSRL': {'Reaction': '17-05-21-CTB1',\n",
       "   'Species': 'GVYQSRL',\n",
       "   'Concentration': 10.0,\n",
       "   'Units': 'uM',\n",
       "   'Mass': 13184.0,\n",
       "   'Reagent_Type': 'SM',\n",
       "   'Sequence': 'GVYQSRL',\n",
       "   'Time': A1     0\n",
       "   A2    30\n",
       "   A3    60\n",
       "   Name: Time, dtype: object,\n",
       "   'spectra': {'A1': <metaunidec.mudstruct.Spectrum at 0x20153ae71f0>,\n",
       "    'A2': <metaunidec.mudstruct.Spectrum at 0x201026069d0>,\n",
       "    'A3': <metaunidec.mudstruct.Spectrum at 0x20102606fa0>},\n",
       "   'peaks': {'A1': '0', 'A2': '30', 'A3': '60'}},\n",
       "  'HC7D': {'Reaction': '17-05-21-CTB1',\n",
       "   'Species': 'HC7D',\n",
       "   'Concentration': 10.0,\n",
       "   'Units': 'uM',\n",
       "   'Mass': 13595.0,\n",
       "   'Reagent_Type': 'C',\n",
       "   'Sequence': nan,\n",
       "   'Time': A1     0\n",
       "   A2    30\n",
       "   A3    60\n",
       "   Name: Time, dtype: object,\n",
       "   'spectra': {'A1': <metaunidec.mudstruct.Spectrum at 0x20153ae71f0>,\n",
       "    'A2': <metaunidec.mudstruct.Spectrum at 0x201026069d0>,\n",
       "    'A3': <metaunidec.mudstruct.Spectrum at 0x20102606fa0>},\n",
       "   'peaks': {'A1': '0', 'A2': '30', 'A3': '60'}}}}"
      ]
     },
     "execution_count": 13,
     "metadata": {},
     "output_type": "execute_result"
    }
   ],
   "source": [
    "# adds spectra for each time point/well to each species\n",
    "data_dict = pm2.export_spectra(eng, data_dict) \n",
    "data_dict"
   ]
  },
  {
   "cell_type": "code",
   "execution_count": 14,
   "metadata": {},
   "outputs": [
    {
     "name": "stdout",
     "output_type": "stream",
     "text": [
      "['sm1' 'sm2' 'p2' 'p2']\n",
      "[0 1 2 2]\n",
      "[[0.1 nan nan nan]\n",
      " [nan 1.  nan nan]\n",
      " [nan nan 0.  1. ]\n",
      " [nan nan nan nan]\n",
      " [nan 1.1 0.9 nan]]\n"
     ]
    }
   ],
   "source": [
    "data = np.array([1, 4, 6, 7])\n",
    "theory = np.array([0.9, 3, 6, 8.3, 5.1])\n",
    "theoryname = np.array([\"sm1\", \"sm2\", \"p2\", \"p3\", \"bp\"])\n",
    "x, y = np.meshgrid(data, theory)\n",
    "diff  = abs(x - y)\n",
    "diff[diff > 1.1] = np.nan\n",
    "diff\n",
    "try:\n",
    "    mins = np.nanargmin(diff, axis = 0)\n",
    "    peaks = theoryname[mins]\n",
    "except:\n",
    "    mins = [np.nanargmin(i) for i in diff if np.isnan(i).all() == False]\n",
    "    peaks = theoryname[mins]\n",
    "    \n",
    "print(peaks)\n",
    "print(mins)\n",
    "print(diff)"
   ]
  },
  {
   "cell_type": "code",
   "execution_count": 15,
   "metadata": {},
   "outputs": [
    {
     "data": {
      "text/plain": [
       "False"
      ]
     },
     "execution_count": 15,
     "metadata": {},
     "output_type": "execute_result"
    }
   ],
   "source": [
    "np.all(diff ==np.nan)"
   ]
  },
  {
   "cell_type": "code",
   "execution_count": 16,
   "metadata": {},
   "outputs": [
    {
     "data": {
      "text/plain": [
       "array([0, 1, 2, 2], dtype=int64)"
      ]
     },
     "execution_count": 16,
     "metadata": {},
     "output_type": "execute_result"
    }
   ],
   "source": [
    "np.nanargmin(diff, axis = 0)"
   ]
  },
  {
   "cell_type": "code",
   "execution_count": 22,
   "metadata": {},
   "outputs": [
    {
     "name": "stdout",
     "output_type": "stream",
     "text": [
      "[1 4 6 7] [0.9 3.  6.  8.3 5.1]\n"
     ]
    }
   ],
   "source": [
    "print(data, theory)"
   ]
  },
  {
   "cell_type": "code",
   "execution_count": 18,
   "metadata": {},
   "outputs": [
    {
     "data": {
      "text/plain": [
       "array([[1, 4, 6, 7],\n",
       "       [1, 4, 6, 7],\n",
       "       [1, 4, 6, 7],\n",
       "       [1, 4, 6, 7],\n",
       "       [1, 4, 6, 7]])"
      ]
     },
     "execution_count": 18,
     "metadata": {},
     "output_type": "execute_result"
    }
   ],
   "source": [
    "x"
   ]
  },
  {
   "cell_type": "code",
   "execution_count": 19,
   "metadata": {},
   "outputs": [
    {
     "data": {
      "text/plain": [
       "array([[0.9, 0.9, 0.9, 0.9],\n",
       "       [3. , 3. , 3. , 3. ],\n",
       "       [6. , 6. , 6. , 6. ],\n",
       "       [8.3, 8.3, 8.3, 8.3],\n",
       "       [5.1, 5.1, 5.1, 5.1]])"
      ]
     },
     "execution_count": 19,
     "metadata": {},
     "output_type": "execute_result"
    }
   ],
   "source": [
    "y"
   ]
  },
  {
   "cell_type": "code",
   "execution_count": 20,
   "metadata": {},
   "outputs": [
    {
     "data": {
      "text/plain": [
       "array([[0.1, 3.1, 5.1, 6.1],\n",
       "       [2. , 1. , 3. , 4. ],\n",
       "       [5. , 2. , 0. , 1. ],\n",
       "       [7.3, 4.3, 2.3, 1.3],\n",
       "       [4.1, 1.1, 0.9, 1.9]])"
      ]
     },
     "execution_count": 20,
     "metadata": {},
     "output_type": "execute_result"
    }
   ],
   "source": [
    "abs(x-y)"
   ]
  },
  {
   "cell_type": "code",
   "execution_count": 21,
   "metadata": {},
   "outputs": [
    {
     "name": "stdout",
     "output_type": "stream",
     "text": [
      "Mass 13321.70 Da matched to Species CTB with mass 13321.0 Da\n"
     ]
    },
    {
     "ename": "KeyError",
     "evalue": "'Reaction Name'",
     "output_type": "error",
     "traceback": [
      "\u001b[1;31m---------------------------------------------------------------------------\u001b[0m",
      "\u001b[1;31mKeyError\u001b[0m                                  Traceback (most recent call last)",
      "\u001b[1;32m<ipython-input-21-1a1396002436>\u001b[0m in \u001b[0;36m<module>\u001b[1;34m\u001b[0m\n\u001b[0;32m      1\u001b[0m \u001b[1;31m# matches mass given in species map to peaks\u001b[0m\u001b[1;33m\u001b[0m\u001b[1;33m\u001b[0m\u001b[1;33m\u001b[0m\u001b[0m\n\u001b[1;32m----> 2\u001b[1;33m \u001b[0mdata_dict\u001b[0m\u001b[1;33m,\u001b[0m \u001b[0meng\u001b[0m \u001b[1;33m=\u001b[0m \u001b[0mpm2\u001b[0m\u001b[1;33m.\u001b[0m\u001b[0mmatch_peaks\u001b[0m\u001b[1;33m(\u001b[0m\u001b[0meng\u001b[0m\u001b[1;33m,\u001b[0m \u001b[0mdata_dict\u001b[0m\u001b[1;33m)\u001b[0m\u001b[1;33m\u001b[0m\u001b[1;33m\u001b[0m\u001b[0m\n\u001b[0m\u001b[0;32m      3\u001b[0m \u001b[0mdata_dict\u001b[0m\u001b[1;33m\u001b[0m\u001b[1;33m\u001b[0m\u001b[0m\n",
      "\u001b[1;32m~\\Documents\\GitHub\\UniDec\\plate_map2.py\u001b[0m in \u001b[0;36mmatch_peaks\u001b[1;34m(eng, data_dict, window, show_unlabelled)\u001b[0m\n\u001b[0;32m    182\u001b[0m \u001b[1;33m\u001b[0m\u001b[0m\n\u001b[0;32m    183\u001b[0m                         \u001b[1;31m# label peak with name of species\u001b[0m\u001b[1;33m\u001b[0m\u001b[1;33m\u001b[0m\u001b[1;33m\u001b[0m\u001b[0m\n\u001b[1;32m--> 184\u001b[1;33m                         \u001b[0mp\u001b[0m\u001b[1;33m.\u001b[0m\u001b[0mlabel\u001b[0m \u001b[1;33m=\u001b[0m \u001b[0mspdict\u001b[0m\u001b[1;33m[\u001b[0m\u001b[1;34m'Reaction Name'\u001b[0m\u001b[1;33m]\u001b[0m\u001b[1;33m\u001b[0m\u001b[1;33m\u001b[0m\u001b[0m\n\u001b[0m\u001b[0;32m    185\u001b[0m \u001b[1;33m\u001b[0m\u001b[0m\n\u001b[0;32m    186\u001b[0m \u001b[1;33m\u001b[0m\u001b[0m\n",
      "\u001b[1;31mKeyError\u001b[0m: 'Reaction Name'"
     ]
    }
   ],
   "source": [
    "# matches mass given in species map to peaks\n",
    "data_dict, eng = pm2.match_peaks(eng, data_dict)\n",
    "data_dict"
   ]
  }
 ],
 "metadata": {
  "kernelspec": {
   "display_name": "Python 3",
   "language": "python",
   "name": "python3"
  },
  "language_info": {
   "codemirror_mode": {
    "name": "ipython",
    "version": 3
   },
   "file_extension": ".py",
   "mimetype": "text/x-python",
   "name": "python",
   "nbconvert_exporter": "python",
   "pygments_lexer": "ipython3",
   "version": "3.8.5"
  }
 },
 "nbformat": 4,
 "nbformat_minor": 4
}
