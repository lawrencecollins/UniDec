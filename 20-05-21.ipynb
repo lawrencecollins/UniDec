{
 "cells": [
  {
   "cell_type": "code",
   "execution_count": 1,
   "metadata": {},
   "outputs": [],
   "source": [
    "from unidec_modules.ChromEng2 import *\n",
    "import plate_map2 as pm2\n",
    "from dataclasses import dataclass\n",
    "import pandas as pd"
   ]
  },
  {
   "cell_type": "code",
   "execution_count": 2,
   "metadata": {},
   "outputs": [],
   "source": [
    "spectra_path = \"C:\\\\Users\\\\cm19ljc\\\\Documents\\\\GitHub\\\\UniDec\\\\mzML\\\\mzML.mzML\"\n",
    "map_path = \"unichrom plate map example.xlsx\""
   ]
  },
  {
   "cell_type": "code",
   "execution_count": 3,
   "metadata": {},
   "outputs": [
    {
     "name": "stdout",
     "output_type": "stream",
     "text": [
      "\n",
      "UniDec Engine v.4.4.0\n",
      "\n",
      "UniDec Path: C:\\Users\\cm19ljc\\Documents\\GitHub\\UniDec\\unidec_bin\\UniDec.exe\n",
      "\n",
      "UniDec Engine v.4.4.0\n",
      "\n",
      "UniDec Path: C:\\Users\\cm19ljc\\Documents\\GitHub\\UniDec\\unidec_bin\\UniDec.exe\n",
      "Opening HDF5 File: C:\\Users\\cm19ljc\\Documents\\GitHub\\UniDec\\mzML\\mzML.hdf5\n",
      "Reading mzML: C:\\Users\\cm19ljc\\Documents\\GitHub\\UniDec\\mzML\\mzML.mzML\n",
      "[Warning] Not index found and build_index_from_scratch is False\n",
      "Converted to gzip file to improve speed: C:\\Users\\cm19ljc\\Documents\\GitHub\\UniDec\\mzML\\mzML.mzML.gz\n",
      "Error getting TIC in mzML; trying to make it...\n",
      "Imported Data. Constructing TIC\n",
      "Done\n",
      "1070 2\n",
      "Noise Level: 0.03357343719702872 Window: 0.05\n",
      "Bad Peak [0.419567   0.30422294] 0.23768299999999998 [0.419567, 0.65725]\n",
      "Bad Peak [0.602767   0.24142904] 0.24183299999999996 [0.419567, 0.6614]\n",
      "0.702967 0.14128400000000008\n",
      "0.790233 0.16205000000000003\n",
      "1.0312 0.13711000000000007\n",
      "1.95747 0.1411800000000003\n",
      "2.88835 0.13712999999999997\n",
      "Bad Peak [3.76958    0.03455761] 0.8769500000000003 [3.7197, 4.59665]\n",
      "Bad Peak [4.23498    0.03712807] 0.6733000000000002 [3.91918, 4.59248]\n",
      "Bad Peak [5.02062    0.03889817] 0.26602000000000015 [4.77123, 5.03725]\n"
     ]
    },
    {
     "data": {
      "text/plain": [
       "([array([0.702967  , 0.13838679]),\n",
       "  array([0.790233  , 0.09750636]),\n",
       "  array([1.0312    , 0.74873995]),\n",
       "  array([1.95747   , 0.88543616]),\n",
       "  array([2.88835, 1.     ])],\n",
       " [[0.686333, 0.827617],\n",
       "  [0.682183, 0.844233],\n",
       "  [1.00212, 1.13923],\n",
       "  [1.9284, 2.06958],\n",
       "  [2.85927, 2.9964]])"
      ]
     },
     "execution_count": 3,
     "metadata": {},
     "output_type": "execute_result"
    }
   ],
   "source": [
    "eng = ChromEngine()\n",
    "eng.load_mzml(spectra_path)\n",
    "eng.config.chrom_peak_width = 0.05\n",
    "eng.get_chrom_peaks() # INSERT PLOT HERE"
   ]
  },
  {
   "cell_type": "code",
   "execution_count": 32,
   "metadata": {},
   "outputs": [
    {
     "data": {
      "text/plain": [
       "array([[1.00212, 1.13923],\n",
       "       [1.9284 , 2.06958],\n",
       "       [2.85927, 2.9964 ]])"
      ]
     },
     "execution_count": 32,
     "metadata": {},
     "output_type": "execute_result"
    }
   ],
   "source": [
    "TIC_min = 1 # ADD TO PACKAGE\n",
    "tranges = np.array(eng.chrompeaks_tranges)\n",
    "eng.chrompeaks_tranges = tranges[np.all(tranges > 1, axis = 1)] # INSERT PLOT HERE\n",
    "eng.chrompeaks_tranges"
   ]
  },
  {
   "cell_type": "code",
   "execution_count": 31,
   "metadata": {},
   "outputs": [
    {
     "data": {
      "text/plain": [
       "list"
      ]
     },
     "execution_count": 31,
     "metadata": {},
     "output_type": "execute_result"
    }
   ],
   "source": []
  },
  {
   "cell_type": "code",
   "execution_count": 30,
   "metadata": {},
   "outputs": [
    {
     "data": {
      "text/plain": [
       "array([[1.00212, 1.13923],\n",
       "       [1.9284 , 2.06958],\n",
       "       [2.85927, 2.9964 ]])"
      ]
     },
     "execution_count": 30,
     "metadata": {},
     "output_type": "execute_result"
    }
   ],
   "source": [
    "tranges = np.array(tranges)\n",
    "tranges[np.all(tranges > 1, axis = 1)]"
   ]
  },
  {
   "cell_type": "code",
   "execution_count": 5,
   "metadata": {},
   "outputs": [
    {
     "name": "stdout",
     "output_type": "stream",
     "text": [
      "Getting scans: [98, 131]\n",
      "Length merge axis: 28915\n",
      "Getting scans: [321, 355]\n",
      "Length merge axis: 30293\n",
      "Getting scans: [545, 578]\n",
      "Length merge axis: 31336\n"
     ]
    }
   ],
   "source": [
    "# eng.config.sw_scan_offset = 0 # ??? defaults to 10\n",
    "\n",
    "eng.add_chrom_peaks2() # stores data from selected peaks ready for metaunidec processing"
   ]
  },
  {
   "cell_type": "code",
   "execution_count": 6,
   "metadata": {},
   "outputs": [],
   "source": [
    "eng.config.subtype = 2 # background subtraction - subtract curved\n",
    "eng.config.subbuff = 100 # background subtraction amount(subtract curved) 0 = 0ff, 100 = good amount when on\n",
    "eng.config.datanorm = 0 # turn off data normalisation\n",
    "\n",
    "# -- Deconvolution\n",
    "eng.config.numit = 100 # number of iterations\n",
    "\n",
    "# mass range (default = 5000.0 to 500000.0 Da)\n",
    "eng.config.massub = 15000 # upper \n",
    "eng.config.masslb = 11000 # lower\n",
    "\n",
    "eng.config.massbins = 0.1 # sample mass every 0.1 Da\n",
    "\n",
    "# FWHM \n",
    "# eng.get_auto_peak_width()\n",
    "eng.config.mzsig = 0 \n",
    "\n",
    "# charge range\n",
    "eng.config.startz = 1\n",
    "eng.config.endz = 30\n",
    "\n",
    "# smoothing \n",
    "eng.config.zzsig = 1 # charge smooth width (smooth charge state distributions)\n",
    "eng.config.psig = 1 # smooth nearby points (point smooth width, some = 1)\n",
    "eng.config.beta = 0 # suppress artifacts (beta, some = 50)\n",
    "\n",
    "eng.config.psfun = 0 # Peak shape function (gaussian, lorentzian, split G/L)\n",
    "\n",
    "# -- Peak Selection and plotting\n",
    "eng.config.peaknorm = 0 # Normalise peaks (0 = off)\n",
    "eng.config.datanorm = 0\n",
    "eng.config.peakwindow = 10 # peak window / Da\n",
    "eng.config.exnorm = 0 # extract normalisation\n",
    "eng.config.peakthresh = 0.05\n",
    "# eng.config.nativeub = 10\n",
    "# eng.config.nativelb = -10\n",
    "eng.data.export_hdf5()"
   ]
  },
  {
   "cell_type": "code",
   "execution_count": 7,
   "metadata": {},
   "outputs": [
    {
     "name": "stdout",
     "output_type": "stream",
     "text": [
      "Execution Time: 0.04523450000000029\n",
      "Execution Time: 1.4934326000000002\n",
      "Execution Time: 0.0678011999999999\n",
      "Peak info saved to: C:\\Users\\cm19ljc\\Documents\\GitHub\\UniDec\\mzML\\UniDec_Figures_and_Files\\mzML_extracts.txt\n"
     ]
    }
   ],
   "source": [
    "eng.process_data()\n",
    "eng.run_unidec()\n",
    "eng.pick_peaks() "
   ]
  },
  {
   "cell_type": "code",
   "execution_count": 8,
   "metadata": {
    "scrolled": true
   },
   "outputs": [
    {
     "name": "stdout",
     "output_type": "stream",
     "text": [
      "        Reaction  Species  Concentration Units     Mass Reagent_Type Sequence\n",
      "0  17-05-21-CTB1      CTB           10.0    uM  13321.0           SM      NaN\n",
      "1  17-05-21-CTB1  GVYQSRL           10.0    uM  13184.0           SM  GVYQSRL\n",
      "2  17-05-21-CTB1     HC7D           10.0    uM  13595.0            C      NaN\n",
      "3  17-05-21-CTB1   CTB-GV            NaN    uM  13627.0            P      NaN\n",
      "     Type       Reaction Time  Valid\n",
      "A1   Test  17-05-21-CTB1    0   True\n",
      "A2   Test  17-05-21-CTB1   30   True\n",
      "A3   Test  17-05-21-CTB1   60   True\n",
      "B1  empty            NaN  NaN   True\n",
      "B2  empty            NaN  NaN   True\n",
      "B3  empty            NaN  NaN   True\n"
     ]
    }
   ],
   "source": [
    "# PLATE MAP PROCESSING STARTS HERE\n",
    "rmap, pmap = pm2.read_in_long(map_path)\n",
    "eng = pm2.update_vars(eng, pmap, skip_empty = True)\n",
    "print(rmap)\n",
    "print(pmap)"
   ]
  },
  {
   "cell_type": "code",
   "execution_count": 9,
   "metadata": {},
   "outputs": [],
   "source": [
    "class Species:\n",
    "    def __init__(self, dictionary, name, peak = None):\n",
    "        self.__dict__.update(dictionary)\n",
    "        self.__name__ = name\n",
    "        self.peak = peak\n",
    "        \n",
    "    \n",
    "    def __repr__(self):\n",
    "        keys = [key for key, val in self.__dict__.items()]\n",
    "        vals = [val for key, val in self.__dict__.items()]\n",
    "        return self.__name__+ \"(\"+\", \".join(\"{} = {}\".format(*t) for t in zip(keys, vals))+\")\"        "
   ]
  },
  {
   "cell_type": "code",
   "execution_count": 10,
   "metadata": {},
   "outputs": [],
   "source": [
    "class Time:\n",
    "    def __init__(self, time, species, coord = None, name = 'Time'):\n",
    "        self.species = species # list of species in each time point\n",
    "        self.time = time\n",
    "        self.coord = coord\n",
    "        self.__name__= name\n",
    "        self.spectra = None\n",
    "        self.thresh = 1\n",
    "    \n",
    "    def __repr__(self):\n",
    "        species_str = \"species = (\" + \", \".join(s.__name__ for s in self.species)+\")\"\n",
    "        if self.spectra == None:\n",
    "            return self.__name__+ \"(time = {}, coord = {}, \".format(self.time, self.coord) + species_str + \")\" \n",
    "        else:\n",
    "            return self.__name__+ \"(time = {}, coord = {}, spectra = {}, \".format(self.time, self.coord, self.spectra)+ species_str + \")\" \n",
    "        \n",
    "    def extract_masses(self):\n",
    "        self.theory_masses = np.array([sp.Mass for sp in self.species])\n",
    "        self.species_name = np.array([sp.__name__ for sp in self.species], dtype = str)\n",
    "        self.data_masses= np.array([p.mass for p in self.spectra.pks.peaks])\n",
    "        self.pks = np.array([p for p in self.spectra.pks.peaks])\n",
    "    def match_masses(self, thresh = None):\n",
    "        pass\n",
    "#         if thresh != None:\n",
    "#             self.thresh = thresh\n",
    "#         x, y = np.meshgrid(self.data_masses, self.theory_masses)\n",
    "#         diff = abs(x - y)\n",
    "#         diff[diff>self.thresh] = np.nan\n",
    "#         try:\n",
    "#             mins = np.nanargmin(diff, axis = 0)\n",
    "#             self.peaks = self.theory_masses[mins]\n",
    "#         except:\n",
    "#             mins = [np.nanargmin(i) for i in diff if np.isnan(i).all() == False]\n",
    "#             self.peaks = self.theory_masses[mins]"
   ]
  },
  {
   "cell_type": "code",
   "execution_count": 11,
   "metadata": {},
   "outputs": [],
   "source": [
    "reactions_species = {}\n",
    "groupbyparam = 'Time'\n",
    "reactions_groupby = {}\n",
    "for rkey, rval in rmap.groupby(['Reaction']):\n",
    "    reactions_species[rkey] = [Species(spval.to_dict('records')[0], \n",
    "                                name = spkey) for spkey, spval in rval.groupby('Species')]\n",
    "        \n",
    "for rkey, rval in pmap.groupby('Reaction'):\n",
    "    # update each species with time points and coordinates\n",
    "    for species in reactions_species[rkey]:\n",
    "        setattr(species, groupbyparam, rval[groupbyparam].values)\n",
    "        setattr(species, \"wells\", np.array(rval.index))\n",
    "        \n",
    "    time = rval[groupbyparam].values\n",
    "    coords = np.array(rval[groupbyparam].index)\n",
    "    reactions_groupby[rkey] = [Time(species = reactions_species[rkey], \n",
    "                                  time = t, coord = c) for t, c in zip(time, coords)]\n"
   ]
  },
  {
   "cell_type": "code",
   "execution_count": 12,
   "metadata": {},
   "outputs": [
    {
     "data": {
      "text/plain": [
       "{'A1': <metaunidec.mudstruct.Spectrum at 0x1b464c7de20>,\n",
       " 'A2': <metaunidec.mudstruct.Spectrum at 0x1b464c7dfa0>,\n",
       " 'A3': <metaunidec.mudstruct.Spectrum at 0x1b464c7d8e0>}"
      ]
     },
     "execution_count": 12,
     "metadata": {},
     "output_type": "execute_result"
    }
   ],
   "source": [
    "spectra_dict = {s.var1:s for s in eng.data.spectra}\n",
    "spectra_dict"
   ]
  },
  {
   "cell_type": "code",
   "execution_count": 13,
   "metadata": {},
   "outputs": [
    {
     "name": "stdout",
     "output_type": "stream",
     "text": [
      "['CTB' 'CTB-GV' 'GVYQSRL' 'HC7D']\n",
      "[13321. 13627. 13184. 13595.]\n",
      "[13047.7 13184.7 13321.7 13595.4 13627.  13659.9]\n",
      "--------------------------------\n",
      "['CTB' 'CTB-GV' 'GVYQSRL' 'HC7D']\n",
      "[13321. 13627. 13184. 13595.]\n",
      "[13047.101 13184.301 13321.5   13595.601 13627.801]\n",
      "--------------------------------\n",
      "['CTB' 'CTB-GV' 'GVYQSRL' 'HC7D']\n",
      "[13321. 13627. 13184. 13595.]\n",
      "[13046.7 13184.7 13321.6 13595.6 13627.3]\n",
      "--------------------------------\n"
     ]
    }
   ],
   "source": [
    "times = []\n",
    "for k, rval in reactions_groupby.items():\n",
    "    for t in rval:\n",
    "        t.spectra = spectra_dict[t.coord]\n",
    "#         print(t)\n",
    "        t.extract_masses()\n",
    "        print(t.species_name)\n",
    "        print(t.theory_masses)\n",
    "        print(t.data_masses)\n",
    "        print(\"--------------------------------\")\n",
    "        times.append(t)"
   ]
  },
  {
   "cell_type": "code",
   "execution_count": 14,
   "metadata": {},
   "outputs": [
    {
     "data": {
      "text/plain": [
       "array(['CTB', 'CTB-GV', 'GVYQSRL', 'HC7D'], dtype='<U7')"
      ]
     },
     "execution_count": 14,
     "metadata": {},
     "output_type": "execute_result"
    }
   ],
   "source": [
    "t = times[0]\n",
    "\n",
    "t.species_name"
   ]
  },
  {
   "cell_type": "code",
   "execution_count": 15,
   "metadata": {},
   "outputs": [
    {
     "data": {
      "text/plain": [
       "array([13321., 13627., 13184., 13595.])"
      ]
     },
     "execution_count": 15,
     "metadata": {},
     "output_type": "execute_result"
    }
   ],
   "source": [
    "t.theory_masses"
   ]
  },
  {
   "cell_type": "code",
   "execution_count": 16,
   "metadata": {},
   "outputs": [
    {
     "data": {
      "text/plain": [
       "array([13047.7, 13184.7, 13321.7, 13595.4, 13627. , 13659.9],\n",
       "      dtype=float32)"
      ]
     },
     "execution_count": 16,
     "metadata": {},
     "output_type": "execute_result"
    }
   ],
   "source": [
    "t.data_masses"
   ]
  },
  {
   "cell_type": "code",
   "execution_count": 17,
   "metadata": {},
   "outputs": [
    {
     "data": {
      "text/plain": [
       "array([[13321., 13627., 13184., 13595.],\n",
       "       [13321., 13627., 13184., 13595.],\n",
       "       [13321., 13627., 13184., 13595.],\n",
       "       [13321., 13627., 13184., 13595.],\n",
       "       [13321., 13627., 13184., 13595.],\n",
       "       [13321., 13627., 13184., 13595.]])"
      ]
     },
     "execution_count": 17,
     "metadata": {},
     "output_type": "execute_result"
    }
   ],
   "source": [
    "x, y = np.meshgrid(t.theory_masses, t.data_masses)\n",
    "x"
   ]
  },
  {
   "cell_type": "code",
   "execution_count": 18,
   "metadata": {},
   "outputs": [
    {
     "data": {
      "text/plain": [
       "array([[13047.7, 13047.7, 13047.7, 13047.7],\n",
       "       [13184.7, 13184.7, 13184.7, 13184.7],\n",
       "       [13321.7, 13321.7, 13321.7, 13321.7],\n",
       "       [13595.4, 13595.4, 13595.4, 13595.4],\n",
       "       [13627. , 13627. , 13627. , 13627. ],\n",
       "       [13659.9, 13659.9, 13659.9, 13659.9]], dtype=float32)"
      ]
     },
     "execution_count": 18,
     "metadata": {},
     "output_type": "execute_result"
    }
   ],
   "source": [
    "y"
   ]
  },
  {
   "cell_type": "code",
   "execution_count": 19,
   "metadata": {},
   "outputs": [
    {
     "data": {
      "text/plain": [
       "array([[2.73299805e+02, 5.79299805e+02, 1.36299805e+02, 5.47299805e+02],\n",
       "       [1.36299805e+02, 4.42299805e+02, 7.00195312e-01, 4.10299805e+02],\n",
       "       [7.00195312e-01, 3.05299805e+02, 1.37700195e+02, 2.73299805e+02],\n",
       "       [2.74400391e+02, 3.15996094e+01, 4.11400391e+02, 4.00390625e-01],\n",
       "       [3.06000000e+02, 0.00000000e+00, 4.43000000e+02, 3.20000000e+01],\n",
       "       [3.38900391e+02, 3.29003906e+01, 4.75900391e+02, 6.49003906e+01]])"
      ]
     },
     "execution_count": 19,
     "metadata": {},
     "output_type": "execute_result"
    }
   ],
   "source": [
    "diff = abs(x-y)\n",
    "diff"
   ]
  },
  {
   "cell_type": "code",
   "execution_count": 20,
   "metadata": {},
   "outputs": [
    {
     "data": {
      "text/plain": [
       "array([[       nan,        nan,        nan,        nan],\n",
       "       [       nan,        nan, 0.70019531,        nan],\n",
       "       [0.70019531,        nan,        nan,        nan],\n",
       "       [       nan,        nan,        nan, 0.40039062],\n",
       "       [       nan, 0.        ,        nan,        nan],\n",
       "       [       nan,        nan,        nan,        nan]])"
      ]
     },
     "execution_count": 20,
     "metadata": {},
     "output_type": "execute_result"
    }
   ],
   "source": [
    "diff[diff>10]=np.nan\n",
    "diff"
   ]
  },
  {
   "cell_type": "code",
   "execution_count": 21,
   "metadata": {},
   "outputs": [
    {
     "data": {
      "text/plain": [
       "{'GVYQSRL': 13184.7, 'CTB': 13321.7, 'HC7D': 13595.4, 'CTB-GV': 13627.0}"
      ]
     },
     "execution_count": 21,
     "metadata": {},
     "output_type": "execute_result"
    }
   ],
   "source": [
    "# check this works with more species than data peaks \n",
    "try:\n",
    "    mins = np.nanargmin(diff, axis = 0)\n",
    "    peaks = t.species_name[mins]\n",
    "except:\n",
    "    peak_dict = {}\n",
    "    for i, d in enumerate(diff):\n",
    "        if np.isnan(d).all()==False:\n",
    "            \n",
    "            mini = np.nanargmin(d)\n",
    "            peak_species = t.species_name[mini]\n",
    "            \n",
    "            data_peak = t.data_masses[i]\n",
    "            t.species[mini].peak = t.pks[i]\n",
    "            peak_dict[peak_species] = data_peak\n",
    "            \n",
    "#     mins = [np.nanargmin(i) for i in diff if np.isnan(i).all() == False]\n",
    "#     peaks = t.species_name[mins]\n",
    "            \n",
    "#     print(species)\n",
    "# print(peaks)\n",
    "# print(t.data_masses)\n",
    "# print(\"----------------------------\")\n",
    "# print(t.species_name)\n",
    "# print(t.theory_masses)\n",
    "peak_dict"
   ]
  },
  {
   "cell_type": "code",
   "execution_count": 22,
   "metadata": {},
   "outputs": [
    {
     "data": {
      "text/plain": [
       "array([<unidec_modules.peakstructure.Peak object at 0x000001B411BB6D00>,\n",
       "       <unidec_modules.peakstructure.Peak object at 0x000001B464CA4550>,\n",
       "       <unidec_modules.peakstructure.Peak object at 0x000001B464CA4A00>,\n",
       "       <unidec_modules.peakstructure.Peak object at 0x000001B464CA4070>,\n",
       "       <unidec_modules.peakstructure.Peak object at 0x000001B464CA4370>,\n",
       "       <unidec_modules.peakstructure.Peak object at 0x000001B464CA41C0>],\n",
       "      dtype=object)"
      ]
     },
     "execution_count": 22,
     "metadata": {},
     "output_type": "execute_result"
    }
   ],
   "source": [
    "t.pks"
   ]
  },
  {
   "cell_type": "code",
   "execution_count": 23,
   "metadata": {},
   "outputs": [
    {
     "name": "stdout",
     "output_type": "stream",
     "text": [
      "CTB 13321.0 13321.7\n",
      "CTB-GV 13627.0 13627.0\n",
      "GVYQSRL 13184.0 13184.7\n",
      "HC7D 13595.0 13595.4\n"
     ]
    }
   ],
   "source": [
    "for s in t.species:\n",
    "    print(s.__name__, s.Mass, s.peak.mass)"
   ]
  }
 ],
 "metadata": {
  "kernelspec": {
   "display_name": "Python 3",
   "language": "python",
   "name": "python3"
  },
  "language_info": {
   "codemirror_mode": {
    "name": "ipython",
    "version": 3
   },
   "file_extension": ".py",
   "mimetype": "text/x-python",
   "name": "python",
   "nbconvert_exporter": "python",
   "pygments_lexer": "ipython3",
   "version": "3.8.5"
  }
 },
 "nbformat": 4,
 "nbformat_minor": 4
}
